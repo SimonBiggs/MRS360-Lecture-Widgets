{
 "cells": [
  {
   "cell_type": "markdown",
   "metadata": {},
   "source": [
    "    Iteractive widgets to accompany MRS360 Lectures\n",
    "    Copyright (C) 2016  Simon Biggs\n",
    "\n",
    "    This program is free software: you can redistribute it and/or modify\n",
    "    it under the terms of the GNU Affero General Public License as\n",
    "    published by the Free Software Foundation, either version 3 of the\n",
    "    License, or (at your option) any later version.\n",
    "\n",
    "    This program is distributed in the hope that it will be useful,\n",
    "    but WITHOUT ANY WARRANTY; without even the implied warranty of\n",
    "    MERCHANTABILITY or FITNESS FOR A PARTICULAR PURPOSE.  See the\n",
    "    GNU Affero General Public License for more details.\n",
    "\n",
    "    You should have received a copy of the GNU Affero General Public License\n",
    "    along with this program.  If not, see <http://www.gnu.org/licenses/>."
   ]
  },
  {
   "cell_type": "code",
   "execution_count": null,
   "metadata": {
    "collapsed": true
   },
   "outputs": [],
   "source": [
    "import numpy as np\n",
    "import matplotlib.pyplot as plt\n",
    "from matplotlib import gridspec\n",
    "%matplotlib inline\n",
    "\n",
    "from ipywidgets import interact, fixed\n",
    "from IPython.display import display, clear_output"
   ]
  },
  {
   "cell_type": "code",
   "execution_count": null,
   "metadata": {
    "collapsed": true
   },
   "outputs": [],
   "source": [
    "# np.random.uniform?"
   ]
  },
  {
   "cell_type": "code",
   "execution_count": null,
   "metadata": {
    "collapsed": false
   },
   "outputs": [],
   "source": [
    "radiation_damage_x = np.random.uniform(low=-1.2, high=1.2, size=(10000,))\n",
    "radiation_damage_y = np.random.uniform(low=-1.2, high=1.2, size=(10000,))\n",
    "\n",
    "t = np.linspace(0, 2*np.pi)\n",
    "cell_x = np.sin(t)\n",
    "cell_y = np.cos(t)\n",
    "\n",
    "target_x = 0.1 * np.sin(t) + 0.5\n",
    "target_y = 0.1 * np.cos(t)\n",
    "\n",
    "def plot_single_target_single_hit(radiation_damage_events=0):\n",
    "\n",
    "    plt.figure(figsize=(6,6))\n",
    "    \n",
    "    plt.plot(cell_x, cell_y)\n",
    "    plt.plot(target_x, target_y, c='red')\n",
    "\n",
    "    plt.scatter(\n",
    "        radiation_damage_x[0:radiation_damage_events], \n",
    "        radiation_damage_y[0:radiation_damage_events], s=2)\n",
    "    \n",
    "    target_hit = np.sqrt(\n",
    "        (radiation_damage_x[0:radiation_damage_events] - 0.5)**2 + \n",
    "        (radiation_damage_y[0:radiation_damage_events])**2\n",
    "    ) <= 0.1\n",
    "    \n",
    "    if np.any(target_hit):\n",
    "        plt.plot([-1.2, 1.2],[-1.2, 1.2], c='red', lw=3)\n",
    "        plt.plot([-1.2, 1.2],[1.2, -1.2], c='red', lw=3)\n",
    "\n",
    "    plt.axis('equal')\n",
    "    \n",
    "    plt.title('Single Target Single Hit Model')\n",
    "\n",
    "    plt.xlim([-1.2, 1.2])\n",
    "    plt.ylim([-1.2, 1.2])\n",
    "    \n",
    "interact(plot_single_target_single_hit, radiation_damage_events=(0, 10000));"
   ]
  },
  {
   "cell_type": "code",
   "execution_count": null,
   "metadata": {
    "collapsed": false
   },
   "outputs": [],
   "source": [
    "radiation_damage_x = np.random.uniform(low=-1.2, high=1.2, size=(10000,))\n",
    "radiation_damage_y = np.random.uniform(low=-1.2, high=1.2, size=(10000,))\n",
    "\n",
    "t = np.linspace(0, 2*np.pi)\n",
    "cell_x = np.sin(t)\n",
    "cell_y = np.cos(t)\n",
    "\n",
    "target_x = 0.1 * np.sin(t) + 0.5\n",
    "target_y = 0.1 * np.cos(t)\n",
    "\n",
    "def plot_single_target_multiple_hit(radiation_damage_events=0, hits_required=3):\n",
    "\n",
    "    plt.figure(figsize=(6,6))\n",
    "    \n",
    "    plt.plot(cell_x, cell_y)\n",
    "    plt.plot(target_x, target_y, c='red')\n",
    "\n",
    "    plt.scatter(\n",
    "        radiation_damage_x[0:radiation_damage_events], \n",
    "        radiation_damage_y[0:radiation_damage_events], s=2)\n",
    "    \n",
    "    target_hit = np.sqrt(\n",
    "        (radiation_damage_x[0:radiation_damage_events] - 0.5)**2 + \n",
    "        (radiation_damage_y[0:radiation_damage_events])**2\n",
    "    ) <= 0.1\n",
    "    \n",
    "    if np.sum(target_hit) >= hits_required:\n",
    "        plt.plot([-1.2, 1.2],[-1.2, 1.2], c='red', lw=3)\n",
    "        plt.plot([-1.2, 1.2],[1.2, -1.2], c='red', lw=3)\n",
    "\n",
    "    plt.axis('equal')\n",
    "    \n",
    "    plt.title('Single Target Multiple Hit Model (requiring {} hits)'.format(hits_required))\n",
    "\n",
    "    plt.xlim([-1.2, 1.2])\n",
    "    plt.ylim([-1.2, 1.2])\n",
    "    \n",
    "interact(plot_single_target_multiple_hit, radiation_damage_events=(0, 10000), hits_required=(1, 20));"
   ]
  },
  {
   "cell_type": "code",
   "execution_count": null,
   "metadata": {
    "collapsed": false
   },
   "outputs": [],
   "source": [
    "radiation_damage_x = np.random.uniform(low=-1.2, high=1.2, size=(10000,))\n",
    "radiation_damage_y = np.random.uniform(low=-1.2, high=1.2, size=(10000,))\n",
    "\n",
    "t = np.linspace(0, 2*np.pi)\n",
    "cell_x = np.sin(t)\n",
    "cell_y = np.cos(t)\n",
    "\n",
    "target_positions = np.array([\n",
    "        [0.5, 0],\n",
    "        [0.2, 0.2],\n",
    "        [-0.6, -0.2],\n",
    "        [-0.1, -0.8],\n",
    "        [-0.4, 0.7]\n",
    "])\n",
    "\n",
    "targets_plots = {}\n",
    "for i, pos in enumerate(target_positions):\n",
    "    targets_plots[i] = {\n",
    "        \"x\": 0.1 * np.sin(t) + pos[0],\n",
    "        \"y\": 0.1 * np.cos(t) + pos[1]\n",
    "    }\n",
    "\n",
    "\n",
    "def plot_multiple_targets_single_hit(radiation_damage_events=0, number_of_targets=3):\n",
    "    hits_required = 1\n",
    "    \n",
    "    plt.figure(figsize=(6,6))\n",
    "    \n",
    "    plt.plot(cell_x, cell_y)\n",
    "    \n",
    "    for key in range(number_of_targets):\n",
    "        target_plot = targets_plots[key]\n",
    "        plt.plot(target_plot[\"x\"], target_plot[\"y\"], c='red')\n",
    "\n",
    "    plt.scatter(\n",
    "        radiation_damage_x[0:radiation_damage_events], \n",
    "        radiation_damage_y[0:radiation_damage_events], s=2)\n",
    "    \n",
    "    target_hits = np.zeros((number_of_targets, radiation_damage_events))\n",
    "    for i, target_position in enumerate(target_positions[0:number_of_targets, :]):\n",
    "        target_hits[i, :] = np.sqrt(\n",
    "            (radiation_damage_x[0:radiation_damage_events] - target_position[0])**2 + \n",
    "            (radiation_damage_y[0:radiation_damage_events] - target_position[1])**2\n",
    "        ) <= 0.1\n",
    "    \n",
    "    if np.all(np.sum(target_hits, axis=1) >= hits_required):\n",
    "        plt.plot([-1.2, 1.2],[-1.2, 1.2], c='red', lw=3)\n",
    "        plt.plot([-1.2, 1.2],[1.2, -1.2], c='red', lw=3)\n",
    "\n",
    "    plt.axis('equal')\n",
    "    \n",
    "    plt.title('Multiple Target Single Hit Model')\n",
    "\n",
    "    plt.xlim([-1.2, 1.2])\n",
    "    plt.ylim([-1.2, 1.2])\n",
    "    \n",
    "interact(plot_multiple_targets_single_hit, radiation_damage_events=(0, 10000), number_of_targets=(1, 5));"
   ]
  },
  {
   "cell_type": "code",
   "execution_count": null,
   "metadata": {
    "collapsed": false
   },
   "outputs": [],
   "source": [
    "radiation_damage_x = np.random.uniform(low=-1.2, high=1.2, size=(10000,))\n",
    "radiation_damage_y = np.random.uniform(low=-1.2, high=1.2, size=(10000,))\n",
    "\n",
    "t = np.linspace(0, 2*np.pi)\n",
    "cell_x = np.sin(t)\n",
    "cell_y = np.cos(t)\n",
    "\n",
    "target_positions = np.array([\n",
    "        [0.5, 0],\n",
    "        [0.2, 0.2],\n",
    "        [-0.6, -0.2],\n",
    "        [-0.1, -0.8],\n",
    "        [-0.4, 0.7]\n",
    "])\n",
    "\n",
    "targets_plots = {}\n",
    "for i, pos in enumerate(target_positions):\n",
    "    targets_plots[i] = {\n",
    "        \"x\": 0.1 * np.sin(t) + pos[0],\n",
    "        \"y\": 0.1 * np.cos(t) + pos[1]\n",
    "    }\n",
    "\n",
    "\n",
    "def plot_multiple_targets_multiple_hit(radiation_damage_events=0, number_of_targets=3, hits_required=3):  \n",
    "    plt.figure(figsize=(6,6))\n",
    "    \n",
    "    plt.plot(cell_x, cell_y)\n",
    "    \n",
    "    for key in range(number_of_targets):\n",
    "        target_plot = targets_plots[key]\n",
    "        plt.plot(target_plot[\"x\"], target_plot[\"y\"], c='red')\n",
    "\n",
    "    plt.scatter(\n",
    "        radiation_damage_x[0:radiation_damage_events], \n",
    "        radiation_damage_y[0:radiation_damage_events], s=2)\n",
    "    \n",
    "    target_hits = np.zeros((number_of_targets, radiation_damage_events))\n",
    "    for i, target_position in enumerate(target_positions[0:number_of_targets, :]):\n",
    "        target_hits[i, :] = np.sqrt(\n",
    "            (radiation_damage_x[0:radiation_damage_events] - target_position[0])**2 + \n",
    "            (radiation_damage_y[0:radiation_damage_events] - target_position[1])**2\n",
    "        ) <= 0.1\n",
    "    \n",
    "    if np.all(np.sum(target_hits, axis=1) >= hits_required):\n",
    "        plt.plot([-1.2, 1.2],[-1.2, 1.2], c='red', lw=3)\n",
    "        plt.plot([-1.2, 1.2],[1.2, -1.2], c='red', lw=3)\n",
    "\n",
    "    plt.axis('equal')\n",
    "    \n",
    "    plt.title('Multiple Target Multiple Hit Model')\n",
    "\n",
    "    plt.xlim([-1.2, 1.2])\n",
    "    plt.ylim([-1.2, 1.2])\n",
    "    \n",
    "interact(\n",
    "    plot_multiple_targets_multiple_hit, \n",
    "    radiation_damage_events=(0, 10000), \n",
    "    number_of_targets=(1, 5),\n",
    "    hits_required=(1, 20)\n",
    ");"
   ]
  },
  {
   "cell_type": "code",
   "execution_count": null,
   "metadata": {
    "collapsed": false,
    "scrolled": false
   },
   "outputs": [],
   "source": [
    "cell_space = 2.4\n",
    "rows_of_cells = 10\n",
    "columns_of_cells = 13\n",
    "\n",
    "max_radiation_damage_events_per_cell = 4000\n",
    "max_hits_required = 20\n",
    "\n",
    "cell_positions_x = np.arange(0, columns_of_cells * cell_space, cell_space)\n",
    "cell_positions_y = np.arange(0, rows_of_cells * cell_space, cell_space)\n",
    "\n",
    "radiation_damage_x = np.random.uniform(\n",
    "    low=-cell_space/2, high=cell_space/2, \n",
    "    size=(max_radiation_damage_events_per_cell, columns_of_cells, rows_of_cells))\n",
    "radiation_damage_y = np.random.uniform(\n",
    "    low=-cell_space/2, high=cell_space/2, \n",
    "    size=(max_radiation_damage_events_per_cell, columns_of_cells, rows_of_cells))\n",
    "\n",
    "t = np.linspace(0, 2*np.pi)\n",
    "cell_x = np.sin(t)\n",
    "cell_y = np.cos(t)\n",
    "\n",
    "target_positions = np.array([\n",
    "        [0.5, 0],\n",
    "        [0.2, 0.2],\n",
    "        [-0.6, -0.2],\n",
    "        [-0.1, -0.8],\n",
    "        [-0.4, 0.7]\n",
    "])\n",
    "\n",
    "targets_plots = {}\n",
    "for i, pos in enumerate(target_positions):\n",
    "    targets_plots[i] = {\n",
    "        \"x\": 0.1 * np.sin(t) + pos[0],\n",
    "        \"y\": 0.1 * np.cos(t) + pos[1]\n",
    "    }\n",
    "    \n",
    "max_number_of_targets = len(target_positions)\n",
    "    \n",
    "target_hit_details = np.zeros(\n",
    "    (columns_of_cells, rows_of_cells, max_number_of_targets, max_hits_required))\n",
    "    \n",
    "for i in range(columns_of_cells): \n",
    "    for j in range(rows_of_cells):\n",
    "        \n",
    "        target_hits = np.zeros((max_number_of_targets, max_radiation_damage_events_per_cell))\n",
    "        for k, target_position in enumerate(target_positions):\n",
    "            target_hits[k, :] = np.sqrt(\n",
    "                (radiation_damage_x[:, i, j] - target_position[0])**2 + \n",
    "                (radiation_damage_y[:, i, j] - target_position[1])**2\n",
    "            ) <= 0.1\n",
    "        \n",
    "        cummulative_sum = np.cumsum(target_hits, axis=1)\n",
    "        \n",
    "        for l in range(max_number_of_targets):\n",
    "            for m in range(max_hits_required):\n",
    "                find = np.where(cummulative_sum[l] >= m+1)[0]\n",
    "                if len(find) > 0:\n",
    "                    target_hit_details[i, j, l, m] = find[0] + 1\n",
    "                else:\n",
    "                    target_hit_details[i, j, l, m] = np.inf\n",
    "                    \n",
    "\n",
    "death_plot = np.zeros(\n",
    "    (max_number_of_targets, max_hits_required, max_radiation_damage_events_per_cell))\n",
    "\n",
    "for i in range(max_number_of_targets):\n",
    "    for j in range(max_hits_required):\n",
    "        for k in range(max_radiation_damage_events_per_cell):\n",
    "            death_plot[i, j, k] = np.sum(np.all(\n",
    "                    target_hit_details[:,:,0:i+1,j] <= \n",
    "                    k, axis=2))\n",
    "\n",
    "number_of_cells = columns_of_cells * rows_of_cells\n",
    "survival_fraction = (number_of_cells - death_plot) / number_of_cells\n",
    "# np.sum(np.all(target_hit_details[:,:,0:2,1] <= 50, axis=2))"
   ]
  },
  {
   "cell_type": "code",
   "execution_count": null,
   "metadata": {
    "collapsed": false
   },
   "outputs": [],
   "source": [
    "gs = gridspec.GridSpec(2, 2, height_ratios=[1, 2.5])\n",
    "\n",
    "def multiple_cells(radiation_damage_events_per_cell=300, number_of_targets=1, hits_required=1): \n",
    "    fig = plt.figure(figsize=(columns_of_cells, rows_of_cells * 1.5))\n",
    "    ax0 = plt.subplot(gs[0,0])\n",
    "    ax1 = plt.subplot(gs[0,1])\n",
    "    ax2 = plt.subplot(gs[1,:])\n",
    "    \n",
    "    ax0.plot(survival_fraction[number_of_targets-1, hits_required-1, 0:radiation_damage_events_per_cell])\n",
    "    ax0.set_xlim([0, max_radiation_damage_events_per_cell])\n",
    "    ax0.set_ylim([0,1])\n",
    "    ax0.set_xlabel('Radiation damage events per cell region')\n",
    "    ax0.set_ylabel('Surviving fraction')\n",
    "    ax0.grid(True)\n",
    "    \n",
    "    \n",
    "    ax1.semilogy(survival_fraction[number_of_targets-1, hits_required-1, 0:radiation_damage_events_per_cell])\n",
    "    ax1.set_xlim([0, max_radiation_damage_events_per_cell])\n",
    "    ax1.set_ylim([1 / number_of_cells,1])\n",
    "    ax1.set_xlabel('Radiation damage events per cell region')\n",
    "    ax1.set_ylabel('Surviving fraction')\n",
    "    ax1.grid(True)\n",
    "    \n",
    "\n",
    "    for i in range(columns_of_cells):\n",
    "        for j in range(rows_of_cells):\n",
    "            cell_position_x = cell_positions_x[i]\n",
    "            cell_position_y = cell_positions_y[j]\n",
    "\n",
    "            ax2.plot(cell_x + cell_position_x, cell_y + cell_position_y, c='blue')\n",
    "\n",
    "            for key in range(number_of_targets):\n",
    "                target_plot = targets_plots[key]\n",
    "                plt.plot(\n",
    "                    target_plot[\"x\"] + cell_position_x, \n",
    "                    target_plot[\"y\"] + cell_position_y, c='red')\n",
    "\n",
    "            ax2.plot(\n",
    "                radiation_damage_x[0:radiation_damage_events_per_cell, i, j] + cell_position_x, \n",
    "                radiation_damage_y[0:radiation_damage_events_per_cell, i, j] + cell_position_y, 'k.', ms=2)\n",
    "\n",
    "            if np.all(target_hit_details[i,j,0:number_of_targets,hits_required-1] <= radiation_damage_events_per_cell):\n",
    "                ax2.plot([-0.7, 0.7] + cell_position_x, [-0.7, 0.7] + cell_position_y, c='red', lw=3)\n",
    "                ax2.plot([-0.7, 0.7] + cell_position_x, [0.7, -0.7] + cell_position_y, c='red', lw=3)\n",
    "\n",
    "    ax2.axis('equal')\n",
    "    ax2.axis('off')\n",
    "    ax2.set_xlim([-cell_space/2, cell_space * (columns_of_cells - 0.5)])\n",
    "    ax2.set_ylim([-cell_space/2, cell_space * (rows_of_cells - 0.5)])\n",
    "    \n",
    "\n",
    "interact(\n",
    "    multiple_cells, \n",
    "    radiation_damage_events_per_cell=(0, max_radiation_damage_events_per_cell), \n",
    "    number_of_targets=(1, max_number_of_targets),\n",
    "    hits_required=(1, max_hits_required));"
   ]
  },
  {
   "cell_type": "code",
   "execution_count": null,
   "metadata": {
    "collapsed": true
   },
   "outputs": [],
   "source": []
  },
  {
   "cell_type": "code",
   "execution_count": null,
   "metadata": {
    "collapsed": true
   },
   "outputs": [],
   "source": []
  },
  {
   "cell_type": "code",
   "execution_count": null,
   "metadata": {
    "collapsed": true
   },
   "outputs": [],
   "source": []
  }
 ],
 "metadata": {
  "kernelspec": {
   "display_name": "Python 3",
   "language": "python",
   "name": "python3"
  },
  "language_info": {
   "codemirror_mode": {
    "name": "ipython",
    "version": 3
   },
   "file_extension": ".py",
   "mimetype": "text/x-python",
   "name": "python",
   "nbconvert_exporter": "python",
   "pygments_lexer": "ipython3",
   "version": "3.5.1"
  },
  "widgets": {
   "state": {
    "00137b55833f47738343d2bab50ef243": {
     "views": []
    },
    "010940e73d59440a953af0088c66d4f7": {
     "views": []
    },
    "018f99c8842449d19f5f27b07d3cc08b": {
     "views": []
    },
    "01b6dee3944645f59c8c63b60d270072": {
     "views": []
    },
    "02920cd91bd0461a9a38eaea5cedd18e": {
     "views": []
    },
    "02a6b560fbb248ecaa7bc2e32808cec2": {
     "views": []
    },
    "0380a266772e4da3a99d8130474a10b8": {
     "views": []
    },
    "04148e5e57b247fcbe276d46fb3e89bc": {
     "views": []
    },
    "047449b1eabf4a8082544e7ad177ac22": {
     "views": []
    },
    "0488e13eec344b4495bf1735ff894c6d": {
     "views": []
    },
    "04ae88bd7c414197804e5591e5a60ab2": {
     "views": []
    },
    "05d8586e6eb14c16bdd6741d332288f2": {
     "views": []
    },
    "0655d9d4e2dd4170854ce130d07950f1": {
     "views": []
    },
    "06fcb12c7dda4996b4a5fff9dc450ffa": {
     "views": []
    },
    "07c9e54a51374604ae540a0929257f62": {
     "views": []
    },
    "07ed0aff052f48cca3b1e2c18419f9d2": {
     "views": []
    },
    "089577ce228c418785a374a41d09f758": {
     "views": []
    },
    "08cb4dee91cd4d7489d5b9caec105fc7": {
     "views": []
    },
    "091a84ec75624086a84ae40a84f8e3ef": {
     "views": []
    },
    "099c17edc42446adb664aaf7af72ce15": {
     "views": []
    },
    "09b00a392fe04243b6f685bc5c6301ed": {
     "views": []
    },
    "09bf9aed18724a0b80cc5a90d6a0656b": {
     "views": []
    },
    "0ae803c5e7de42adb71b2c56256dfb7f": {
     "views": []
    },
    "0b105ce190dd4f46af264f7f28be4bb0": {
     "views": []
    },
    "0b50ddef14994df2bdb91e32d1f8a669": {
     "views": []
    },
    "0c232f5aeb6b4628a953fb9263724777": {
     "views": []
    },
    "0cb1de5993194e7f828885dc86b65103": {
     "views": []
    },
    "0d3c9c165a6c4f9eb40ea6c86ceeee69": {
     "views": []
    },
    "0d66feb794134ec78d707372abee161d": {
     "views": []
    },
    "0df15fdd5e28453887d67a3903dc2c03": {
     "views": []
    },
    "0e0b7fec289c437097a9a13714f96625": {
     "views": []
    },
    "0e2d0fd5c2994123819868435cacd380": {
     "views": []
    },
    "0ef269741c574a5e9f6b611ecb348f9b": {
     "views": []
    },
    "0f7c209337814babb05f372dad95802d": {
     "views": []
    },
    "0fa3df7113634535a07163f6570cab24": {
     "views": []
    },
    "10107a2458b0409d8fd8d59725117d52": {
     "views": []
    },
    "10901aaca00d42c5842a61a865baa666": {
     "views": []
    },
    "10b01db1087042458529790e49374ab3": {
     "views": []
    },
    "10d96b11778c4edb904b189612c95fe5": {
     "views": []
    },
    "10ee57d70cbe415a9ddd63f12c92684d": {
     "views": [
      {
       "cell_index": 8
      }
     ]
    },
    "110fc62ba89d4e38a0a728bc077ec544": {
     "views": []
    },
    "111dced5929f44dba6deb3850806da19": {
     "views": []
    },
    "1198a06727ad4b5c840aedb18d385201": {
     "views": []
    },
    "122f8e8bf8234185b7ecd8d971f35694": {
     "views": []
    },
    "12e55a81247441a086a9fdb433c26c2a": {
     "views": []
    },
    "12f20011a2c5421fb8fdee73e65a0f0d": {
     "views": []
    },
    "13071883d49742c1bcf23c47be3d7140": {
     "views": []
    },
    "1325392199134b87ace7e1c11b098fb8": {
     "views": []
    },
    "132c810bba0f4547b2de0c08192efd90": {
     "views": []
    },
    "140002b0a89b4cada30e0809a82eb4f2": {
     "views": []
    },
    "14035208373d46f5aa21de349412a75c": {
     "views": []
    },
    "148921755b79432e9245aa7392826b1a": {
     "views": []
    },
    "14d9dbd3602c48e983e3da2d79519842": {
     "views": []
    },
    "150aab406ca54cbf831bdd8725c22aa4": {
     "views": []
    },
    "153100640bcc49dfa5d09d58d1066815": {
     "views": []
    },
    "15619210976f4a00b69a3d1a231c9207": {
     "views": []
    },
    "15cae63d197840a69ea2258e49000ff6": {
     "views": []
    },
    "166f7fdd5bb9496d9dacfdb9aee31822": {
     "views": []
    },
    "16901447ce1d4de78afde51cc28bd203": {
     "views": []
    },
    "16bd63f2308c4b5a8cdacf11ae15e732": {
     "views": []
    },
    "170c1cf6dc464f15aa5c97deba42230d": {
     "views": []
    },
    "1827f15a99544472962fc4f48dd526a2": {
     "views": []
    },
    "18ae8f216bd24ea4ad15bc18ee398cdb": {
     "views": []
    },
    "18efe3c991f642129de29a33636ee6aa": {
     "views": []
    },
    "191fbdb98f254b68bade5f0028ef6d98": {
     "views": []
    },
    "193a4c4063b64fb0ad2c78323b6c1a59": {
     "views": []
    },
    "1992bcbb11ea46bcbc9bc25954df8870": {
     "views": []
    },
    "19e66a1609314b7186ec95c549499342": {
     "views": []
    },
    "1a04443e2e0c41e181925f395fee7143": {
     "views": []
    },
    "1ad17362217046e088b8dea70a0d8bbe": {
     "views": []
    },
    "1af5a7b78e134cd4874debc188d32291": {
     "views": []
    },
    "1b11bd20fc384ddd9a06f0e1fe00bf10": {
     "views": []
    },
    "1b55af0aef0541e0b5252f9fdf854dcc": {
     "views": []
    },
    "1ba9e6572cfc4dcd8157266db94ab97f": {
     "views": []
    },
    "1bb9f954499344ea8064a76d54f9a2a9": {
     "views": []
    },
    "1bf68260df2e4765acddfe8d676029af": {
     "views": []
    },
    "1c00c8e30e0249e69f20ab6e2e1229ea": {
     "views": []
    },
    "1d21c0c1af8941f990c1b9f417f36549": {
     "views": []
    },
    "1d21ce32570847cbbd730dc4e9408e32": {
     "views": []
    },
    "1d95fd78cf224b798d129c12585d2b60": {
     "views": []
    },
    "1e05ff8482874024a0ecb790d76705ce": {
     "views": []
    },
    "1e0d6ce1797b4618bbc40df030c44f00": {
     "views": []
    },
    "1e8237b3659d4e8fa978ef5c57091ca6": {
     "views": []
    },
    "1ecf43a5534740ce90b8d98f28afc858": {
     "views": []
    },
    "1f27108e452e4649a6174536b3595500": {
     "views": []
    },
    "1f51c12caaaf4c939394f69914e60b74": {
     "views": []
    },
    "1fff8a7243ff4a9b98f71f8533a282be": {
     "views": []
    },
    "20249932d3cf4875903cfa8750296896": {
     "views": []
    },
    "207f1f118f5f435db4020e1e230fa984": {
     "views": []
    },
    "209f147833564c6db2760b9e2a2d4176": {
     "views": []
    },
    "20bb8acfff574639b7026e7015a58d6d": {
     "views": []
    },
    "20e1d2a2cafa46d098aa5b1b87a3ffca": {
     "views": []
    },
    "20ef86ef0d764ada887f74b12149cf74": {
     "views": []
    },
    "21f7eca6d5234deba584724a14bc51b0": {
     "views": []
    },
    "221973fd5dc147ad9c8428ae0cdf75ba": {
     "views": []
    },
    "229bcb30ec8a4839afa07138c43f2f15": {
     "views": []
    },
    "259cc7301ba249eb9e5e19474d5cb265": {
     "views": []
    },
    "25aa584ed6ac4817b04bb6701c93e0cf": {
     "views": []
    },
    "25e6fcee284e40f4a0e1fb4243cd0638": {
     "views": []
    },
    "26426c50cf2d4bf0ad5e722738b526cf": {
     "views": []
    },
    "27e3d59f2e4d455f8227eaf06461cfb2": {
     "views": []
    },
    "28b5b79641424809a7ef11030752cce0": {
     "views": []
    },
    "29cf6fc3c3fa4acd99bbc1b1a51bbac7": {
     "views": []
    },
    "2a30b593610544deb0b9cd3eb6cd50d5": {
     "views": []
    },
    "2a57b80fb4b149788c551b47b72c570f": {
     "views": []
    },
    "2ad28e5d206642d38dcb8588a3d76430": {
     "views": []
    },
    "2c32157974f44a70b637a6c80061d566": {
     "views": []
    },
    "2ca9eb5dfd2c4922abd3783ecedb970e": {
     "views": []
    },
    "2d1926db42c5494f9775f36e26352121": {
     "views": []
    },
    "2d1d4b635f364a69abe05c375dc4412d": {
     "views": []
    },
    "2d2280c782b44223b0278fc44bf3461f": {
     "views": []
    },
    "2e8af4f2637d4b119014ab4374eec5bf": {
     "views": []
    },
    "2ef061c405344919800b2f99172b2d71": {
     "views": []
    },
    "2f780e33eec844b391c952bbd7eece20": {
     "views": []
    },
    "2f8c095370464ee3915f2b670fbac322": {
     "views": []
    },
    "2fab20bbc24d48c7a313c43de46c95ae": {
     "views": []
    },
    "2fadec2bc5744fa585622b7be891e7a8": {
     "views": []
    },
    "30241b61707f4647b988aee80f96fd95": {
     "views": []
    },
    "3068edebb2bf4a72a6d0be5b276db513": {
     "views": []
    },
    "30aa0c9a2d3c4910b9fb82905e7c2dff": {
     "views": []
    },
    "30c9865e528540f18c1edd44fd10014f": {
     "views": []
    },
    "31139454ef23416dbb05c796c4cba484": {
     "views": []
    },
    "31953c9d17e24a43a491b5530a45c379": {
     "views": []
    },
    "328af6d5042143d6bf152604c5fa874a": {
     "views": []
    },
    "329eef7b2fb344789dab9d522cf98cea": {
     "views": []
    },
    "32d0b9d48b1a430faf5e6aa17af80272": {
     "views": []
    },
    "33c41cd6c23146319166050f245203bd": {
     "views": []
    },
    "345464c2581641279dad172cea62ce10": {
     "views": []
    },
    "34fab8806f634c77a666075940b93c2d": {
     "views": []
    },
    "356ff78aa4314260b0a62bdf8de4c3e9": {
     "views": []
    },
    "35b885a9c4564358a7656921ffcfa167": {
     "views": []
    },
    "362817bb25d740ddb257f0e72b8197c0": {
     "views": []
    },
    "368b55b6957d4e78b96c434aa2137e16": {
     "views": []
    },
    "36cb486476fe4a60bba4cf436d1890bf": {
     "views": []
    },
    "3735dec86c7e4a989f2a89dd701b3116": {
     "views": []
    },
    "37785334737740df8fe8756058053a1a": {
     "views": []
    },
    "3865a117e0614408b3ff3c137045667a": {
     "views": []
    },
    "38b45a5c2ffc49ecb629953a387077da": {
     "views": []
    },
    "38f21595545547a88111df96647b982f": {
     "views": []
    },
    "39b0c37eea4e44bd9b5aaec06e3ead34": {
     "views": []
    },
    "39dfd01def5a40b983991948ae6c5ea6": {
     "views": []
    },
    "39e9a8087864430a8952a72f80effa6c": {
     "views": []
    },
    "3ab95b8fdaed4e20a16d274e8a05c3f9": {
     "views": []
    },
    "3b27ae8ba1f24945aef92b30e1cc5fa5": {
     "views": []
    },
    "3b7f0fd2952344539e0d6ce49b6fcdbc": {
     "views": []
    },
    "3c8b99b7f21348ddb4ccde2cb723de2d": {
     "views": []
    },
    "3cdfa47c9e9e4c8b9f6cf38cdab02f56": {
     "views": []
    },
    "3e29c549ca974a729ade458bfe2e9a1f": {
     "views": []
    },
    "3e54b30f301f427db7d88d368ec20102": {
     "views": []
    },
    "3e612a7e4adc4927b18d2d38077bcc19": {
     "views": []
    },
    "3e7019179bdd4e7bb93babecdcfa35f7": {
     "views": []
    },
    "3edfdad0e4ed4565a0c04809bd311835": {
     "views": []
    },
    "400d07614c224fbcb97642dc0c460a8c": {
     "views": []
    },
    "40542998e79f4816be20b046e733dae7": {
     "views": []
    },
    "4077f5ce403e4fb4946dc260ad381f73": {
     "views": []
    },
    "40b3cd510c6e48dd94745e7615b8a199": {
     "views": []
    },
    "41a57f5e33b84c79935309673e609cd0": {
     "views": []
    },
    "4299f25289d247a189471c0827d0b2a7": {
     "views": []
    },
    "42dccfe8f01f416ea9f89566ba1584ef": {
     "views": []
    },
    "4353b60cebd34192adb6400ee73e4e8e": {
     "views": []
    },
    "43971aa7cc2e4859bee7897b328efad8": {
     "views": []
    },
    "4404d935dde24115b4b3324e77ad5132": {
     "views": []
    },
    "449c4a929d654a63ac6d4d68ad3ee973": {
     "views": []
    },
    "44c1e52b36ec4bf3bcc6142c9b3d5b45": {
     "views": []
    },
    "45aefd60613843c59ee1c79dab4eee23": {
     "views": []
    },
    "460575ee5d72402fba4e900a81cc491b": {
     "views": []
    },
    "463277a1da70465ab0eab5e114917f2b": {
     "views": []
    },
    "46f132da007746ebb5f5fe2520509f61": {
     "views": []
    },
    "4704430c02f24d04a146e8a642c972df": {
     "views": []
    },
    "4745b6aba10843c795a1af78dad3d336": {
     "views": []
    },
    "4793a75a22a4458f8b5ec898a7cb3a97": {
     "views": []
    },
    "4834d2b5645f4d7187b4b8843d170a20": {
     "views": []
    },
    "498775ae2e114cd18f0efdb9f31d0f5e": {
     "views": []
    },
    "4a6713b2ae8d426f86f173a9cf7e625c": {
     "views": []
    },
    "4ab2090109a143abb9f8d67113a7466c": {
     "views": []
    },
    "4b5148ab89fc45a0b1cd98a935d2c43c": {
     "views": []
    },
    "4bca127afbcf4592811f259981c56332": {
     "views": []
    },
    "4c48f4ab644d43b3bc3e15566b2781c2": {
     "views": []
    },
    "4c568750436946f090281a0c7db9b496": {
     "views": []
    },
    "4c81d8dd3f5947f8b2043057dc308b6e": {
     "views": []
    },
    "4cad203f36894946bccc25813adee749": {
     "views": []
    },
    "4cdc5cc87c1946639e0519bc1e9bae04": {
     "views": []
    },
    "4d7a1b93390a41cf86b33b3133340d9c": {
     "views": []
    },
    "4d87da6c23904219ba52ba794ea90f3b": {
     "views": []
    },
    "4db2e9e9f8ad45c4b2add934fd8f7288": {
     "views": []
    },
    "4e10640c44d24c40b17a6867e923318a": {
     "views": []
    },
    "4e2a5fbbcd794283a46859f34153a0c4": {
     "views": []
    },
    "4eb64fbeccab4ecca088f71c63300b8f": {
     "views": []
    },
    "4f4489e396984a2c9919e76b5130ed82": {
     "views": []
    },
    "4f4970f2097f434699bed79726a6db12": {
     "views": []
    },
    "4f4e82d2bf9e4933b43ff6692532c9bb": {
     "views": [
      {
       "cell_index": 6
      }
     ]
    },
    "50c04e755bd74b2b882c8ab148a6edd6": {
     "views": []
    },
    "50e382c3e2544c5aaa174cf0f1b177e6": {
     "views": []
    },
    "51111bc7f96d42429514def26fdf75ac": {
     "views": []
    },
    "51b801c1bdb34a98944bdd91ad62ee04": {
     "views": []
    },
    "526b7978487342da97307736a81674f0": {
     "views": []
    },
    "52d1e6adce174fdfa46c51bf0f643886": {
     "views": []
    },
    "52ddff6c42aa458b9c791f998a649e04": {
     "views": []
    },
    "533c5c4c1c964fb382db7c3bbab6e625": {
     "views": []
    },
    "538b20da46d24d36b4abd332e68ffd34": {
     "views": []
    },
    "538f252d932b40619258e4d3ff19a6bb": {
     "views": []
    },
    "53dd9befc5954a6cacdf137f0bbf60e4": {
     "views": []
    },
    "53f5da4f158f40aeaad7982b68507ef6": {
     "views": []
    },
    "549f65ea49c14fd4a0034f42b230b63e": {
     "views": []
    },
    "55348258cd2a4f159d812398ed40d49a": {
     "views": []
    },
    "5535eae132f84b19998895175c4746ab": {
     "views": []
    },
    "568ef2e7e37b4149a66905c4026879dd": {
     "views": []
    },
    "57741e819eed49ada1df0ce9aedb4bc7": {
     "views": []
    },
    "59ccb4b8decc44b98ef7254b49397bef": {
     "views": []
    },
    "5a1e52f0ecf24af3a067ec347695fc66": {
     "views": []
    },
    "5a731c96bc4845c38b255b29e7d4f67d": {
     "views": []
    },
    "5b99ea38ee544c189db9830361eb836b": {
     "views": []
    },
    "5b9f604b3d4c4e39a1bd426b0078dc3f": {
     "views": []
    },
    "5be22ad983914a419a1b136d7f7fdd86": {
     "views": []
    },
    "5bea592b7ae64ab38dcc0b640783f5ec": {
     "views": []
    },
    "5bf7416072524d65adc649f6a1747fa4": {
     "views": []
    },
    "5bfb7236a8c14892a0083ed2d07be326": {
     "views": []
    },
    "5cc6eed211f04711a5bdddd087b4c7bc": {
     "views": []
    },
    "5d892c328f0d46769b99e51cd7c1aab1": {
     "views": []
    },
    "5daf08d735da425f8779aca06e6473b8": {
     "views": []
    },
    "5e4824a569d34549b94eab9d66f0942a": {
     "views": []
    },
    "5f1a50e5ef8e41cf8ea1b2ce24182f3b": {
     "views": []
    },
    "5f40d275bcfc436bb471da53ef574ff8": {
     "views": []
    },
    "5f873640cb474b299580bcdbbb41b56f": {
     "views": []
    },
    "60618f3f9dfc41d7b51b012aaf71bc95": {
     "views": []
    },
    "6071c0249088435a86349b3b40944502": {
     "views": []
    },
    "6195b7b75e90462382fa662957dfa789": {
     "views": []
    },
    "61b5edd3cac2424e8aaa4dc2eb3e374b": {
     "views": []
    },
    "61dbf9f9cf594c798775597b1f9d9817": {
     "views": []
    },
    "627a42fb5503451593ed277a740d4f5e": {
     "views": []
    },
    "62977cb82e394a0589f09ea9aa1d2136": {
     "views": []
    },
    "6320ee63137345008617b061d988e3b5": {
     "views": []
    },
    "6355f083ae4c43d9837b0e8535734321": {
     "views": []
    },
    "63bec03b60a4494f96292950c1f69a04": {
     "views": []
    },
    "63f3ecbacbde422ab18e84a4df1bde76": {
     "views": []
    },
    "649fe2f1eee94d4a92e63df64df27c4c": {
     "views": []
    },
    "64f931acd7fa4794b42df61bb354540f": {
     "views": []
    },
    "6517611f98b04e3e8a01979d1d37b2b5": {
     "views": []
    },
    "654e65e437684aad8ee692009a8b2174": {
     "views": []
    },
    "65b25becda424889aab8b678513f6bd3": {
     "views": []
    },
    "65ef0167143b4412b4f640b292b5f50d": {
     "views": []
    },
    "664f8ae35596418aa97ddf9eefb6b55c": {
     "views": []
    },
    "668bc477c79b4a2bb989bcc46f002af7": {
     "views": []
    },
    "668e92e95ee24134b02888266629ae4f": {
     "views": []
    },
    "6695677d1254452e874a0521ecc87ebe": {
     "views": []
    },
    "677cb81597714f449e027d4ba19c024c": {
     "views": []
    },
    "67c01dd1b9e24d92ad52dd1b9d17cbb9": {
     "views": []
    },
    "67d682c2e5a640e1b2075f0640ac0768": {
     "views": []
    },
    "6810f6144b8a481194ae24e44fb4ef1e": {
     "views": []
    },
    "68243048612144539ef0548944cc7958": {
     "views": []
    },
    "687313783de64779b30a2ea21d6b15e1": {
     "views": []
    },
    "689c98a3085e46a0b02792b80b8e69d9": {
     "views": []
    },
    "698c54b65603494b83487234aeaf025b": {
     "views": []
    },
    "6a97521f0b2e48e4b4be6523ae37d709": {
     "views": []
    },
    "6ab75ee288da4923bdb282d7508642b9": {
     "views": []
    },
    "6c4c753c46fa40b0805a3addae73eb88": {
     "views": []
    },
    "6c9705d9240340bd8e46dc0bb4ffd8e1": {
     "views": []
    },
    "6ca18003502a4bb9aac94bcf8d2a8a2b": {
     "views": []
    },
    "6ca7b044ed864f49aef9926eca07da17": {
     "views": []
    },
    "6d36dbce309e4117a28c37c845e8a561": {
     "views": []
    },
    "6d44c3770ed4485f80940862b29fee74": {
     "views": []
    },
    "6de807573d7b442990a38dd58f55dada": {
     "views": []
    },
    "6df35dc5e6794f4ab192e0d131331736": {
     "views": []
    },
    "6e913cd4c2974547964a3dc7964d3513": {
     "views": [
      {
       "cell_index": 4
      }
     ]
    },
    "6f0a3c7a182544d4a3625d3d4af9e5eb": {
     "views": []
    },
    "6f152fefbed14afaa96e282b7dac1afc": {
     "views": []
    },
    "6f722a00623142d08bafa94a09f9282f": {
     "views": []
    },
    "6fdab59fc98c40b895c5d011d67feff8": {
     "views": []
    },
    "70130f5b01e2477ebdb85561931d6dd6": {
     "views": []
    },
    "706677482cc84ea39a64056a2b294367": {
     "views": []
    },
    "708d0494769c4ba19883c1a293ee538c": {
     "views": []
    },
    "70d80978ea9543ba8fedd3fb1cd413d8": {
     "views": []
    },
    "710be2ddd29a47e3b8711ac719da222e": {
     "views": []
    },
    "712a360af7c04317bb4f0efbfe381dde": {
     "views": []
    },
    "71c21560a01547b29c3b1ca09acc3324": {
     "views": []
    },
    "71f056e7ea394c03ac781e27f7c74cfa": {
     "views": []
    },
    "7232542e258349a19f51ba98acfeccbb": {
     "views": []
    },
    "7245b93f07614c5aae764b76785ce9b8": {
     "views": []
    },
    "72855138c0444d358ae9b2ff4f1fa787": {
     "views": []
    },
    "72b916d8797f4569a4c3dd9cfb61c3c0": {
     "views": []
    },
    "72ebad424e0f42078cae0cebc1079e6c": {
     "views": []
    },
    "73919ce54cd24ec59b6948ac09845590": {
     "views": []
    },
    "73adbb60acaa4f98a8630ca2a3c0a4b4": {
     "views": []
    },
    "73cf961299034f7b94c29eaecf2cf6a9": {
     "views": []
    },
    "73f47f1ab7734908bed5f98374f74ee2": {
     "views": []
    },
    "73fef2ed555144b4b46c5dd256347d90": {
     "views": []
    },
    "762228ec4fe846f8ac6c07702b6e51a5": {
     "views": []
    },
    "764b40ffdf5e4f2b92a4efee55524d7e": {
     "views": []
    },
    "766bc982c14140d0ad18b2180b945688": {
     "views": []
    },
    "7713d4fd58f54b22a06de94eb1289b88": {
     "views": []
    },
    "77c121490ae3404c8435d7588e15e61d": {
     "views": []
    },
    "7833a7dbf68c402ebbbfc5adf683d1bd": {
     "views": []
    },
    "785dc0bcb2e846a188182886f9597e10": {
     "views": []
    },
    "78a600bbc4e64fcbad42c5982492e9dd": {
     "views": []
    },
    "78baa8e8291d41d2b2ee621ab9391b02": {
     "views": []
    },
    "79ad47adc9834077aa3174ec7e2499e2": {
     "views": []
    },
    "79df277fc97549c68a4f0b37588f28b7": {
     "views": []
    },
    "7a29e867ea4147bfb9f7e63b5ace278e": {
     "views": []
    },
    "7a9232d215954149a1adddd60ee2865c": {
     "views": []
    },
    "7ad18d6dec9f49bebb29552b6f25e7c3": {
     "views": []
    },
    "7b0ad16272db4a4a9b936acf95ae4877": {
     "views": []
    },
    "7bfbd7ec915c410da6ce21909768f402": {
     "views": []
    },
    "7d1ab4cb31994c22bb659ca02b6f7d35": {
     "views": []
    },
    "7d98f4ee6011473d90a427a05b642ad0": {
     "views": []
    },
    "7ecbab418cb44407b1416c28f6a0b095": {
     "views": []
    },
    "7f321850c9054a85a76cdb7fec453537": {
     "views": []
    },
    "8030d0d693404a19b165f276d34d7ac4": {
     "views": []
    },
    "81fa2269213c4a998bd0fd85cc974523": {
     "views": []
    },
    "826decea1e154900b89f3445a6ef735c": {
     "views": []
    },
    "8311728fb8854ab3b33a82808f748bb4": {
     "views": []
    },
    "839c952671ea4686be19487442efb3e1": {
     "views": []
    },
    "85304a78b5f64566b285d2418a100eca": {
     "views": []
    },
    "85577d7b1e9a497b99784250eff645fa": {
     "views": []
    },
    "855bada28eab4e04b427515ce4551031": {
     "views": []
    },
    "85c5b9b8f2b24ea090c553b34d625d3b": {
     "views": []
    },
    "85dbcc24936c40549fb4463c4d865846": {
     "views": []
    },
    "8624d6aabb1548f09c32200768e3e79b": {
     "views": []
    },
    "86538d7a8ba44128a3b10d5aef908de6": {
     "views": []
    },
    "87d3418de77d4586b3a60403e3701a67": {
     "views": []
    },
    "889c2925c6ca46a58052de4507e9b4e0": {
     "views": []
    },
    "896c2f3478dd4b4c9ec252609dfe11b3": {
     "views": []
    },
    "8a1f9952d37241dc93e8bb3ee37f756e": {
     "views": []
    },
    "8a781d6bf2db4859966834a6673dbbb1": {
     "views": []
    },
    "8beb03456ae1499989b3ab54e7d8f8b7": {
     "views": []
    },
    "8c7f7bf8b2714a35a42f71d06d1f9e4f": {
     "views": []
    },
    "8c93052c9985486cb92bf0320ec840f6": {
     "views": []
    },
    "8cf50b0a4c3e48c0b18a6759b29bb95f": {
     "views": []
    },
    "8d0496dbaf3744d8976dc7911426391b": {
     "views": []
    },
    "8d7405ff853e4610b5730b8427e0d636": {
     "views": []
    },
    "8d7b1e78b5b94065b58110e53b67960d": {
     "views": []
    },
    "8dccbd5fc4284178b01e2a818cb7414f": {
     "views": []
    },
    "8ecbab3eb6d24c68aaf2b5d9281a9065": {
     "views": []
    },
    "8ef83d0a3833461d82924e22a3aafced": {
     "views": []
    },
    "8f00b602b82d4e00be9c4bcf43f3f19a": {
     "views": []
    },
    "8f1efad376db42648ec48f53ff0602c9": {
     "views": []
    },
    "8f3f0102e2384d2b83db40ff34200c90": {
     "views": []
    },
    "8f3f6272c3954afa967e0acc19652d80": {
     "views": []
    },
    "8ffb405a410c46a2940e1cd7aab96e46": {
     "views": []
    },
    "90b98c4b402e409cbdb0057f468f29c5": {
     "views": []
    },
    "9192a9bb969442b7bf2731f19b0788f9": {
     "views": []
    },
    "91c6875988094f269718d9f16752a4d9": {
     "views": []
    },
    "9248c6823c404fbd86a8816ebf4adaaa": {
     "views": []
    },
    "92bbd9902f704b8bbe352d6811ae354a": {
     "views": []
    },
    "930249bec2334e1894501ac010351f42": {
     "views": []
    },
    "931a6348c0184ed78033807f57d04e05": {
     "views": []
    },
    "93340cdf436a4b8997ee156175c1257b": {
     "views": []
    },
    "942014d0fe07473db27fdfe2f248a415": {
     "views": []
    },
    "94cc9aa98aa24dc7a5f96e3515a2356c": {
     "views": []
    },
    "963fbf423e154b1ca506f9062f04a40d": {
     "views": []
    },
    "97902b630a7d4f888bc082a7f1c68988": {
     "views": []
    },
    "97fede10aac544aca0f30cfcd4d9f29e": {
     "views": []
    },
    "98e5c7b613ee4c79a5d660b83a24b22d": {
     "views": []
    },
    "9945d06cb5064d64a2fa7457974d179d": {
     "views": []
    },
    "9978cb9fc55e47c3b3a67c725b99fd24": {
     "views": []
    },
    "99fcde936a88403aa3dd448cf07cbe1e": {
     "views": []
    },
    "9a976843e9de4e819bf68024070ea811": {
     "views": []
    },
    "9a9b9840a3494858a7cee0f3b600e491": {
     "views": []
    },
    "9aa1109834284a50b578f1e97a4d7454": {
     "views": []
    },
    "9b0c51f9adda479e9a63c885a03d532e": {
     "views": []
    },
    "9c3cad84bb354e36867dd1e7e112b16c": {
     "views": []
    },
    "9c74d2d2f68d4b99bd371ed64cfacb0a": {
     "views": []
    },
    "9c8dc6a21914444a9e21d19328cf92f8": {
     "views": []
    },
    "9df810b7f4e84e56a8302aa9c717bde0": {
     "views": []
    },
    "9e1dcac6c9a540a1ad7fd60f8a5cfde9": {
     "views": []
    },
    "9e799eef53e04ccda6357748211f133c": {
     "views": []
    },
    "9f5cff5fa9cf44769a454ca8b35db047": {
     "views": []
    },
    "9f8f93667f74443691a75e79250b9984": {
     "views": []
    },
    "9f91fce6a0fb4577a9bb7b7c2a302177": {
     "views": []
    },
    "9fe5989a07b74c749c26b1c74a95e8d8": {
     "views": []
    },
    "9ff94a3b7f644b2689944c55d70de959": {
     "views": []
    },
    "9ffd87773c7448b18b4984aa05657b56": {
     "views": []
    },
    "a076fa3c1e2a44c69911fedec48347e8": {
     "views": []
    },
    "a077cebc003749a69b90f65bc522f397": {
     "views": [
      {
       "cell_index": 3
      }
     ]
    },
    "a09d80665f2a471bb3f7540e3b6155e2": {
     "views": []
    },
    "a1d0f0bb377a47739c828b5075c11fc8": {
     "views": []
    },
    "a2d74cc02aea4064ba52b95bf2e4bf0e": {
     "views": []
    },
    "a3d79fb9391d48f997a345dbf9a83602": {
     "views": []
    },
    "a440e532b3ef4b548dd01bf80e05f1a2": {
     "views": []
    },
    "a4b49af0c24444f1ba1d346705492eed": {
     "views": []
    },
    "a5113bbd7d464bc2a2e395877e99c9a8": {
     "views": []
    },
    "a54dae97afc44398927b794bc5a78225": {
     "views": []
    },
    "a5abc021a7244e8b8a4ccb5135f0f9a2": {
     "views": []
    },
    "a5faac385b3d47bbbb2684a919915059": {
     "views": []
    },
    "a5fd6ce177974d849b4c07568d1f488e": {
     "views": []
    },
    "a617d8b325554a55ac5862e5644782da": {
     "views": []
    },
    "a6e6bbfbad1a4acbbb42d0609b802bad": {
     "views": []
    },
    "a884fc5408df441da9476e3e662a31c9": {
     "views": []
    },
    "a964796fe42a41f3a84f2c009ec4f850": {
     "views": []
    },
    "a9fe05ddf7e74e9d90fc42a94dc7c295": {
     "views": []
    },
    "aa0760377a4b4cffb3963fe9606554a8": {
     "views": []
    },
    "aa7656a635054f068fde545dda4c4fb1": {
     "views": []
    },
    "aa855ccf5277426dbab11cfacff17208": {
     "views": []
    },
    "aa8ad9c0ec3a450899fe1030d639c48e": {
     "views": []
    },
    "aa92944353964ba68c896898ea21a23a": {
     "views": []
    },
    "aa999962ac2e45b9855f62c5b0841128": {
     "views": []
    },
    "aae9e678196146348f0745f7c4433d51": {
     "views": []
    },
    "ab2f4dc449f44a1ba8fe97c794c98042": {
     "views": []
    },
    "ab52a7d639594acc9159f91ac775d4c7": {
     "views": []
    },
    "ab8a8e6dc23641b28a3f6f73bb1b4f46": {
     "views": []
    },
    "acbfe15e3fc441fd8f2196e85e8e7884": {
     "views": []
    },
    "ad9457930dc4426bbf811a7385d4fac2": {
     "views": []
    },
    "ad95e34a500944b09907227d9e2015d7": {
     "views": []
    },
    "ada2dbe446534370b3ea314566e3414e": {
     "views": []
    },
    "ae389a5cd5034494a9bc52151b951181": {
     "views": []
    },
    "ae5ef938d72d45aeb95f02259c183898": {
     "views": []
    },
    "ae9785f1778b41698930e7b528ccbbe2": {
     "views": []
    },
    "ae9f791e22114a2b87602d8b90c0e27e": {
     "views": []
    },
    "af3a9830578f43f5bf8ddfcd1a6c349a": {
     "views": []
    },
    "afa995cdc37b42c2b75db4ac3efa554b": {
     "views": []
    },
    "afb6dcae3a5443efbc319b83f0a006be": {
     "views": []
    },
    "b0438f9f76cc4b8b997bda1f6e53958d": {
     "views": []
    },
    "b05ade96ba0b4935bc9073344ec4d692": {
     "views": []
    },
    "b0fee28778744d0e83f1dcce16961546": {
     "views": []
    },
    "b140f96dbf324bc6aa126d79602cb049": {
     "views": []
    },
    "b1c3edf059df4bd691a4a36d14afcca1": {
     "views": []
    },
    "b1ff87385b1d4dd28a56086131b70f2a": {
     "views": []
    },
    "b2e9188c316e41cb8bedf9c6b223650d": {
     "views": []
    },
    "b34b86891c8e42a6a1374d727201e494": {
     "views": []
    },
    "b35d47e93e9641fca0eeb5b9cda12553": {
     "views": []
    },
    "b3c71222ef864b17ae8e4e65ca608c3e": {
     "views": []
    },
    "b3cecc4c90da4b279d75ce0fa675dfe8": {
     "views": []
    },
    "b4061c3e8e6d4dc6be4581c3ae3c9d48": {
     "views": []
    },
    "b4c4e47a2e1748939f53077a337c5bbd": {
     "views": []
    },
    "b50498476cc44d4998350e6f223fb1e4": {
     "views": []
    },
    "b51f54f780db4e72ac066b95a5be4aaf": {
     "views": []
    },
    "b520f95f1a68425ca8bfa3af5f74d39a": {
     "views": []
    },
    "b5477e4d495847a2ad2ede38b1482bad": {
     "views": []
    },
    "b5a2962800d74d4f8a023f9a4c05b005": {
     "views": []
    },
    "b5b903d3ceb44c75b4db4e04adcd6fc1": {
     "views": []
    },
    "b5cf832fca0242b89b5f78206c7fa88b": {
     "views": []
    },
    "b5f1f96a610b4dd19bc6a68d637efb24": {
     "views": []
    },
    "b61d1826afd3499bb347a2cd8e605f92": {
     "views": []
    },
    "b67024f3c0fc4bbaa637f1234ec2c8de": {
     "views": []
    },
    "b670645153604e9384d36041dc6db594": {
     "views": []
    },
    "b6746dd6ac7341edb62d6b9340edbbd5": {
     "views": []
    },
    "b6b1ee7640e74026a43040d15cd2f96a": {
     "views": []
    },
    "b6ca4798c1104c9ea43b0758bf5feefe": {
     "views": []
    },
    "b6d7377e9b8a4708a6a696423d526050": {
     "views": []
    },
    "b714f0de005f49c5b07cfa4f088565ac": {
     "views": []
    },
    "b74e61d2ed0d4d34be92e9230443a190": {
     "views": []
    },
    "b7d60fb0568248518b58fb09dbb1fbff": {
     "views": []
    },
    "b7e5fa23e6e242ad9158c7748ca8182e": {
     "views": []
    },
    "b7f22d1618ae4d7992d2cc3c9cf05622": {
     "views": []
    },
    "b92b775a0da348e5936db75cc5f52a80": {
     "views": []
    },
    "b96a387623cf46518190fc059554876a": {
     "views": []
    },
    "b97ca90b8ac941749d511dc86c35aac6": {
     "views": []
    },
    "bacc577f3ece43a3b13e2fddad2157f6": {
     "views": []
    },
    "bb71bc5d587e4363a5074c16c938acb5": {
     "views": []
    },
    "bb98bae228ed42898cc6b9886548c832": {
     "views": []
    },
    "bb99a4d236cb407aaee2e078dbf0804a": {
     "views": []
    },
    "bc24e9276d6c4a6fa8f17c3c5a6355fc": {
     "views": []
    },
    "bc26f4381f3741e29cca0b60c5aceb37": {
     "views": []
    },
    "bcce55e175be41c39631734b7aef86fa": {
     "views": []
    },
    "bce26f5db10d4612bb5c4c1de9d6bd47": {
     "views": []
    },
    "bd68b2e95c104d36b53a774079c598c0": {
     "views": []
    },
    "beee58b1142242cbbb98f16a22d78ed2": {
     "views": []
    },
    "bfd498cecf464617a8662622f80d2f50": {
     "views": []
    },
    "bfdd787f0ced486fa974b75c07464243": {
     "views": []
    },
    "c04a923b81a14aed9f4bdb96c425b505": {
     "views": []
    },
    "c192a647174b4dd9afe468d5737634a7": {
     "views": []
    },
    "c1f1b8236d1b4896bf501f9354b36517": {
     "views": []
    },
    "c26e243580ab4abaa59f7885f11f6cf2": {
     "views": []
    },
    "c3a1951922834c9e921cbe67c0d014bc": {
     "views": []
    },
    "c3ef68b8005441d39f2b30e474739385": {
     "views": []
    },
    "c4e6b1e32ae44840940616859880ad16": {
     "views": []
    },
    "c55f954ffbd04d9eb47bbc1f564ee8b2": {
     "views": []
    },
    "c5984239b6b04c198b2504a43645f210": {
     "views": []
    },
    "c630f48f3fe847a781d42e4325181ffe": {
     "views": []
    },
    "c6725b649ee04e1a805100e9b71f1dcf": {
     "views": []
    },
    "c67e3b098f3c4c82bf2c8904b1ee1b72": {
     "views": []
    },
    "c7115e4d8a414a17a3ecdc7492ee93b7": {
     "views": []
    },
    "c7474e9a21a441179e8c37a381ff079c": {
     "views": []
    },
    "c82b8a4a0ba9408a90918968a4409239": {
     "views": []
    },
    "c8849b802c7a41d996a2bb5552fe8b91": {
     "views": []
    },
    "c891193ac1984fea91e19200c700c01b": {
     "views": []
    },
    "c89857a62d224ec69c0d657db1f39573": {
     "views": []
    },
    "c9c5a889e7d14b4cbc3796474eb7ba56": {
     "views": []
    },
    "c9f861750a9d44e48f525df8a7f541c6": {
     "views": []
    },
    "caebc2f74ec54741b1f53482586396d0": {
     "views": []
    },
    "cb076650e3c54171ac6b51f0b058cf5e": {
     "views": []
    },
    "cb92d221a6584e1aa44208a1c050d31c": {
     "views": []
    },
    "cc08f7317ac74ab88c51b11a886135a2": {
     "views": []
    },
    "cc5440ac169441718061d9e75264cea9": {
     "views": []
    },
    "ccb809c27a4744ad8312ba1e3a0ede8d": {
     "views": []
    },
    "cf57a40799504956a7c0f59d2b968a4b": {
     "views": []
    },
    "cfb32f2fd8504d2ba4449304d6a39155": {
     "views": []
    },
    "d02f19629b6f4163bb7c687bf9a6173f": {
     "views": []
    },
    "d08463e33b214822b236059700a63fb2": {
     "views": []
    },
    "d0b69e1313d54705ad2483750bd87a61": {
     "views": []
    },
    "d0f67ec296bb4fef8b7f5861afa28655": {
     "views": []
    },
    "d1a7b208f631494a8eb48f370dcd63e0": {
     "views": []
    },
    "d1f77b3720714610b6dedac1b34faa54": {
     "views": []
    },
    "d203275c057e45ccb45486cf2a0d9156": {
     "views": []
    },
    "d23109b4a8514344af3c95eefd8f65d6": {
     "views": []
    },
    "d26e430ab2b642719fbaf020965fc304": {
     "views": []
    },
    "d2d5240981bd49dc9b7b6846ddbbc9e3": {
     "views": []
    },
    "d302e0246d4844d59711c973e0c4c400": {
     "views": []
    },
    "d4511dba25374e0cb29fbe58b784893e": {
     "views": []
    },
    "d474b94575d6401da2f14c3611e97903": {
     "views": []
    },
    "d57a598725134c84b6f6d1c3fbc03740": {
     "views": []
    },
    "d5c27afbe21a47e9a57205e6e1fd6c3e": {
     "views": []
    },
    "d6d6e95ccf7b4e23b05e27fb2202717d": {
     "views": []
    },
    "d6e4885673974ac18414e2c9a5c3c324": {
     "views": []
    },
    "d885c9f390ef48bf83857eb9ba1798ea": {
     "views": [
      {
       "cell_index": 5
      }
     ]
    },
    "d9abff700da24fe88ae162b096d891b2": {
     "views": []
    },
    "d9e91f9777f440e7b8881b9e418e4679": {
     "views": []
    },
    "da30bce61752422ba9b76ec57fc292ec": {
     "views": []
    },
    "da6255bd69e74e8eadb5c4e148725f00": {
     "views": []
    },
    "da84dd50f1d04e2fba90e881d012828c": {
     "views": []
    },
    "daef339b2e154f4f86068cdd8561a2e9": {
     "views": []
    },
    "db2b22b1054b4703979925a4afd053aa": {
     "views": []
    },
    "dc86d3bcd01349f8abd4f61660a6d500": {
     "views": []
    },
    "dd245772c09b44e8bb33272013fb9cf1": {
     "views": []
    },
    "de013bc7aa1448a39f12eab0db6f8612": {
     "views": []
    },
    "de5a9039ae55496491963112e92985f1": {
     "views": []
    },
    "de6d6b8311a74bc49ac934f1785bbf04": {
     "views": []
    },
    "de7b37ed7234479b88768e8a244c1768": {
     "views": []
    },
    "de92b1acbda04ee9a3401920f8dd417a": {
     "views": []
    },
    "df4b52bdfd444d05bac9af5cf020a43d": {
     "views": []
    },
    "df5414e514a04f4c98f1428928f68f30": {
     "views": []
    },
    "dfe0c70ac40847ddb1b58daff91b8326": {
     "views": []
    },
    "e00e16d576844208893edcfa21210b43": {
     "views": []
    },
    "e0458e292fbf424f9d052667676e34bc": {
     "views": []
    },
    "e14ab4fb7a914c56b28f83c45ef4f992": {
     "views": []
    },
    "e24f0c070ce2434f9eca46d76e465cbb": {
     "views": []
    },
    "e27c63cf59a642b6bfcdb077d33c7cb2": {
     "views": []
    },
    "e33d8d4e162f459795a6942d8bfc0ad9": {
     "views": []
    },
    "e348956b56f2423c9d10fc253bc5abeb": {
     "views": []
    },
    "e34c4281a8a84074a2f8d18d4cb805a1": {
     "views": []
    },
    "e3c20db024e548e6b210d1c99e8c8d8d": {
     "views": []
    },
    "e4bcb9f286bf4c528e744e1f25c0ec38": {
     "views": []
    },
    "e534046caab048269a954c88da31a8b1": {
     "views": []
    },
    "e552e7b6fb5a49b69b5297e5d79f5ae3": {
     "views": []
    },
    "e5e58acb7d474006974158843d468a5b": {
     "views": []
    },
    "e6f4d01fab994d46924e10642b259c60": {
     "views": []
    },
    "e776fe8e04d146bdbcef20b3bc4b8595": {
     "views": []
    },
    "e799d35df58f4f70a0ac9d51c47e0b7b": {
     "views": []
    },
    "e7d433259693423ea389a9754ae6b7eb": {
     "views": []
    },
    "e819f8156dd64ae0831a55068fa2c774": {
     "views": []
    },
    "e82f35ca7e3f4f4c9c299c119a9f99c1": {
     "views": []
    },
    "e88fc6566f16409885a3a33959e667b1": {
     "views": []
    },
    "e9b2fd3410674fbdbe50e893d59340ba": {
     "views": []
    },
    "eae19ed4d5cf47a6bf34307d78a873a5": {
     "views": []
    },
    "ed08f31f7c6f4d08882c69ab89a43584": {
     "views": []
    },
    "ed0aee0719ce463d9e08485d5fc4092f": {
     "views": []
    },
    "ed7b994c3d0b4929800e441c731eff83": {
     "views": []
    },
    "ee42ff65476e4d52972591b7b566465d": {
     "views": []
    },
    "eef55955827c41e99597ee65506e60a5": {
     "views": []
    },
    "efe0909797a544cb90982900aad0d169": {
     "views": []
    },
    "f058880bad3346d181d57f670c89affd": {
     "views": []
    },
    "f0bc555502d64f7186fc978fe0877baa": {
     "views": []
    },
    "f0ee340e01a646f0be526430cef0610a": {
     "views": []
    },
    "f119fe3121cb4c5c9f505c96e358b515": {
     "views": []
    },
    "f1205ae7498240acb915f56b570e2873": {
     "views": []
    },
    "f1626ea2b7804772b6167066d87d00ca": {
     "views": []
    },
    "f1a1f46f996a41be893292eb5ac5de2d": {
     "views": []
    },
    "f1a74367829c42fba04754222a747c9e": {
     "views": []
    },
    "f1a8afa1d2394f96a9033a1b5ae87867": {
     "views": []
    },
    "f1bd1fd1fbb24bd8b8288d04792d08bc": {
     "views": []
    },
    "f1fb8927026f42818eabf366cf87a89f": {
     "views": []
    },
    "f28168b4162c455e9f5a6fb1b459b38c": {
     "views": []
    },
    "f2aaa6ccbcc54ba9b3c352dee3a24bf4": {
     "views": []
    },
    "f30744cd1c3043ac8a8bb3f58fe43f52": {
     "views": []
    },
    "f3970aeb99bf4b68a0ca190a3eadd99c": {
     "views": []
    },
    "f3a95109e27448e2aca3ef27821a0489": {
     "views": []
    },
    "f4a75d48c5b245bc9d079a3b2ba042eb": {
     "views": []
    },
    "f508e40011b941d4b8bcc909b4473527": {
     "views": []
    },
    "f50cdd4654c84fd59fdba3f2c5b265fd": {
     "views": []
    },
    "f550276ea53f47c1bdd45427061d2b7d": {
     "views": []
    },
    "f569c9630922488ea70de39da5c80f87": {
     "views": []
    },
    "f5f0dfb50252437ba2d0af1ce9af7f6b": {
     "views": []
    },
    "f783450aee5f44d79acf06d721a292d2": {
     "views": []
    },
    "f8a9a74caf174ea08add52005aac3145": {
     "views": []
    },
    "f8fdceee1d8b4ac5a69482d83c1e1a68": {
     "views": []
    },
    "f9725f1bfc494c14bd54a02df70b1548": {
     "views": []
    },
    "fa80411f40544154a13013800d697049": {
     "views": []
    },
    "fa9e9ff256834bb7858967302c9dcae9": {
     "views": []
    },
    "fb780251de5e4b2aade40a4a3ba13fe8": {
     "views": []
    },
    "fbf6d01ec0d64f6887fd2091dc922f8f": {
     "views": []
    },
    "fc7290c8626540bc9c320258df07e2f0": {
     "views": []
    },
    "fc751b9c3d974cbc9b6060967733f3ee": {
     "views": []
    },
    "fc86bc7aa2f341c5bc35f7432ed0941b": {
     "views": []
    },
    "fc93f38923fe47fc9b5ead34c405a355": {
     "views": []
    },
    "fcb3e61aeb024ee98c60f3fad613c68d": {
     "views": []
    },
    "fcc07483de7b4499a624beff4d83bb78": {
     "views": []
    },
    "fd1ab19ec533451bb9cf53fb2a93470d": {
     "views": []
    },
    "fd458d7f70954305bb08ca6a98198893": {
     "views": []
    },
    "fdc6b38724fd46f293be9906f5980e7a": {
     "views": []
    },
    "fed5d00b3f584f49aef14a543a98dafc": {
     "views": []
    },
    "fedc0a94cfeb4df8bc07b2272353c14e": {
     "views": []
    }
   },
   "version": "1.1.2"
  }
 },
 "nbformat": 4,
 "nbformat_minor": 0
}
