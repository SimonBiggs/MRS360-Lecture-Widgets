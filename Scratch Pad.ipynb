{
 "cells": [
  {
   "cell_type": "markdown",
   "metadata": {},
   "source": [
    "    Iteractive widgets to accompany MRS360 Lectures\n",
    "    Copyright (C) 2016  Simon Biggs\n",
    "\n",
    "    This program is free software: you can redistribute it and/or modify\n",
    "    it under the terms of the GNU Affero General Public License as\n",
    "    published by the Free Software Foundation, either version 3 of the\n",
    "    License, or (at your option) any later version.\n",
    "\n",
    "    This program is distributed in the hope that it will be useful,\n",
    "    but WITHOUT ANY WARRANTY; without even the implied warranty of\n",
    "    MERCHANTABILITY or FITNESS FOR A PARTICULAR PURPOSE.  See the\n",
    "    GNU Affero General Public License for more details.\n",
    "\n",
    "    You should have received a copy of the GNU Affero General Public License\n",
    "    along with this program.  If not, see <http://www.gnu.org/licenses/>."
   ]
  },
  {
   "cell_type": "markdown",
   "metadata": {},
   "source": [
    "# Jupyter Notebook to accompany MRS360 Topic 1 Foundations\n",
    "To use fiddle with the examples here first you need to click `Cell > Run All`. That will then allow you to use the sliders available in various examples. For further help on what to do here see http://jupyter.org/."
   ]
  },
  {
   "cell_type": "code",
   "execution_count": null,
   "metadata": {
    "collapsed": true
   },
   "outputs": [],
   "source": [
    "import numpy as np\n",
    "import matplotlib.pyplot as plt\n",
    "%matplotlib inline\n",
    "\n",
    "import re\n",
    "import sympy\n",
    "from ipywidgets import interact, fixed\n",
    "from IPython.display import display, Markdown, clear_output\n",
    "\n",
    "sympy.init_printing()"
   ]
  },
  {
   "cell_type": "markdown",
   "metadata": {},
   "source": [
    "## Example 1.1"
   ]
  },
  {
   "cell_type": "code",
   "execution_count": null,
   "metadata": {
    "collapsed": false
   },
   "outputs": [],
   "source": [
    "1 + 2 + 3 + 5"
   ]
  },
  {
   "cell_type": "markdown",
   "metadata": {},
   "source": [
    "## Example factorials"
   ]
  },
  {
   "cell_type": "code",
   "execution_count": null,
   "metadata": {
    "collapsed": false
   },
   "outputs": [],
   "source": [
    "for i in range(11):\n",
    "    display(Markdown((\"${}! = {}$\".format(i, np.math.factorial(i)))))"
   ]
  },
  {
   "cell_type": "markdown",
   "metadata": {},
   "source": [
    "## Example 1.2"
   ]
  },
  {
   "cell_type": "code",
   "execution_count": null,
   "metadata": {
    "collapsed": false
   },
   "outputs": [],
   "source": [
    "first_term = 1 ** 0 / np.math.factorial(0)\n",
    "second_term = 1 ** 1 / np.math.factorial(1)\n",
    "the_sum = first_term + second_term\n",
    "\n",
    "display(Markdown(r\"$e^1 \\approx {} + {} = {}$\".format(first_term, second_term, the_sum)))"
   ]
  },
  {
   "cell_type": "markdown",
   "metadata": {},
   "source": [
    "## Example 1.3"
   ]
  },
  {
   "cell_type": "code",
   "execution_count": null,
   "metadata": {
    "collapsed": false
   },
   "outputs": [],
   "source": [
    "first_term = 1 ** 0 / np.math.factorial(0)\n",
    "second_term = 1 ** 1 / np.math.factorial(1)\n",
    "third_term = 1 ** 2 / np.math.factorial(2)\n",
    "fourth_term = 1 ** 3 / np.math.factorial(3)\n",
    "fifth_term = 1 ** 4 / np.math.factorial(4)\n",
    "the_sum = first_term + second_term + third_term + fourth_term + fifth_term\n",
    "\n",
    "display(Markdown(r\"$e^1 \\approx {0} + {1} + {2} + {3:0.4f} + {4:0.4f} = {5:0.4f}$\".format(\n",
    "            first_term, second_term, third_term, fourth_term, fifth_term, the_sum)))\n",
    "\n",
    "display(Markdown(r\"$e^1$ (to 5 decimal places) $ = {0:0.5f}$\".format(np.exp(1))))"
   ]
  },
  {
   "cell_type": "markdown",
   "metadata": {},
   "source": [
    "## Example 1.4"
   ]
  },
  {
   "cell_type": "code",
   "execution_count": null,
   "metadata": {
    "collapsed": false
   },
   "outputs": [],
   "source": [
    "def approximate_exponential(x, number_of_terms):\n",
    "    e = np.zeros_like(x)\n",
    "    for i in range(number_of_terms):\n",
    "        e += x ** i / np.math.factorial(i)\n",
    "    \n",
    "    return e\n",
    "\n",
    "x_0 = 0.1\n",
    "display(Markdown(\"Approximating $e^{0.1}:$\"))\n",
    "for i in range(1,6):\n",
    "    display(Markdown(\"$S_{0} = {1:0.7f}$\".format(i, float(approximate_exponential(x_0, i)))))"
   ]
  },
  {
   "cell_type": "markdown",
   "metadata": {},
   "source": [
    "## Demonstration of exponential approximation"
   ]
  },
  {
   "cell_type": "code",
   "execution_count": null,
   "metadata": {
    "collapsed": false
   },
   "outputs": [],
   "source": [
    "def aproximate_and_plot(number_of_terms=2):\n",
    "    x_1 = np.linspace(-5, 5)\n",
    "    y_actual = np.exp(x_1)\n",
    "    \n",
    "    y_approx = approximate_exponential(x_1, number_of_terms)\n",
    "    \n",
    "    plt.figure(figsize=(6,5.5))\n",
    "    plt.plot(x_1, y_actual, 'r')\n",
    "    plt.plot(x_1, y_approx, 'b--')\n",
    "    \n",
    "\n",
    "    plt.xlim([-5, 5])\n",
    "    plt.ylim([-10, 15])\n",
    "\n",
    "    plt.title('Approximation of an exponential')\n",
    "    plt.xlabel('x')\n",
    "    plt.ylabel('y')\n",
    "    plt.grid(True)\n",
    "    \n",
    "interact(aproximate_and_plot, number_of_terms = [1,14]);"
   ]
  },
  {
   "cell_type": "markdown",
   "metadata": {},
   "source": [
    "## Example 1.5"
   ]
  },
  {
   "cell_type": "code",
   "execution_count": null,
   "metadata": {
    "collapsed": false
   },
   "outputs": [],
   "source": [
    "u = sympy.symbols('u')\n",
    "expansion = ((1 + 2*u)**3).expand()\n",
    "expansion"
   ]
  },
  {
   "cell_type": "markdown",
   "metadata": {},
   "source": [
    "## Example 1.6\n",
    "First four terms of the $y(x) = \\frac{1}{1 + x}$ series expansion"
   ]
  },
  {
   "cell_type": "code",
   "execution_count": null,
   "metadata": {
    "collapsed": false
   },
   "outputs": [],
   "source": [
    "x = sympy.symbols('x')\n",
    "series_expansion = (1/(1 + x)).series(x, 0, 4).removeO()\n",
    "series_expansion"
   ]
  },
  {
   "cell_type": "markdown",
   "metadata": {},
   "source": [
    "## Example plotting the binomial approximation"
   ]
  },
  {
   "cell_type": "code",
   "execution_count": null,
   "metadata": {
    "collapsed": false
   },
   "outputs": [],
   "source": [
    "def plot_binomial_series_expansion(sympy_function_of_x, number_of_terms=2):\n",
    "    clear_output(wait=True)\n",
    "    x = sympy.symbols('x')\n",
    "    series_expansion = sympy_function_of_x.series(x, 0, number_of_terms).removeO()\n",
    "    \n",
    "    numpy_function = sympy.lambdify(x, series_expansion)\n",
    "    \n",
    "    x_2 = np.linspace(-2, 2)\n",
    "    x_left = np.linspace(-2, -1.00001)\n",
    "    x_right = np.linspace(-0.99999, 2)\n",
    "    y_actual_left = 1 / (1 + x_left)\n",
    "    y_actual_right = 1 / (1 + x_right)\n",
    "    \n",
    "    y_approx = numpy_function(x_2)\n",
    "    \n",
    "    fig = plt.figure(figsize=(6,5.5))\n",
    "    ax = fig.add_subplot(111)\n",
    "    ax.plot(x_left, y_actual_left, 'r')\n",
    "    ax.plot(x_right, y_actual_right, 'r')\n",
    "    ax.plot(x_2, y_approx, 'b--')\n",
    "    \n",
    "\n",
    "    ax.set_xlim([-2, 2])\n",
    "    ax.set_ylim([-10, 10])\n",
    "\n",
    "    ax.set_title(r'Approximation of $\\frac{1}{1+x}$')\n",
    "    ax.set_xlabel('x')\n",
    "    ax.set_ylabel('y')\n",
    "    plt.grid(True)\n",
    "    \n",
    "    plt.show(fig)\n",
    "    display(series_expansion)\n",
    "\n",
    "\n",
    "x = sympy.symbols('x') \n",
    "sympy_function_of_x = 1 / (1 + x)\n",
    "\n",
    "interact(\n",
    "    plot_binomial_series_expansion, \n",
    "    sympy_function_of_x=fixed(sympy_function_of_x), \n",
    "    number_of_terms = [2,20]);"
   ]
  },
  {
   "cell_type": "markdown",
   "metadata": {},
   "source": [
    "## Example 1.7"
   ]
  },
  {
   "cell_type": "code",
   "execution_count": null,
   "metadata": {
    "collapsed": false
   },
   "outputs": [],
   "source": [
    "x = sympy.symbols('x')\n",
    "expansion = ((1 + x)**5).expand()\n",
    "expansion"
   ]
  },
  {
   "cell_type": "code",
   "execution_count": null,
   "metadata": {
    "collapsed": false
   },
   "outputs": [],
   "source": [
    "def step_through_terms(expansion, x_value, number_of_terms):\n",
    "    approximation = (expansion + sympy.O(x**number_of_terms)).removeO()\n",
    "    display(Markdown(\"$S_{} = $\".format(number_of_terms)))\n",
    "    display(approximation.subs(x, x_value))\n",
    "\n",
    "x_value = 0.2\n",
    "for number_of_terms in range(1, 7):\n",
    "    step_through_terms(expansion, x_value, number_of_terms)"
   ]
  },
  {
   "cell_type": "markdown",
   "metadata": {},
   "source": [
    "## Example 1.8"
   ]
  },
  {
   "cell_type": "code",
   "execution_count": null,
   "metadata": {
    "collapsed": false
   },
   "outputs": [],
   "source": [
    "x = sympy.symbols('x')\n",
    "series_expansion = ((1 + x)**(0.5)).series()\n",
    "series_expansion"
   ]
  },
  {
   "cell_type": "code",
   "execution_count": null,
   "metadata": {
    "collapsed": false
   },
   "outputs": [],
   "source": [
    "1 + 0.5 * -0.24"
   ]
  },
  {
   "cell_type": "code",
   "execution_count": null,
   "metadata": {
    "collapsed": false
   },
   "outputs": [],
   "source": [
    "x_val = -0.24\n",
    "1 + x_val/2 - x_val**2/8"
   ]
  },
  {
   "cell_type": "code",
   "execution_count": null,
   "metadata": {
    "collapsed": false
   },
   "outputs": [],
   "source": [
    "1 + x_val/2 - x_val**2/8 + x_val**3/16"
   ]
  },
  {
   "cell_type": "markdown",
   "metadata": {},
   "source": [
    "## Exercise 1.1"
   ]
  },
  {
   "cell_type": "markdown",
   "metadata": {},
   "source": [
    "### (i)"
   ]
  },
  {
   "cell_type": "code",
   "execution_count": null,
   "metadata": {
    "collapsed": false
   },
   "outputs": [],
   "source": [
    "e = sympy.functions.elementary.exponential.exp(1)\n",
    "x = sympy.symbols('x')\n",
    "expansion = (e**x).series()\n",
    "display(expansion)\n",
    "\n",
    "approximation = (expansion + sympy.O(x**4)).removeO()\n",
    "display(approximation)\n",
    "approximation.subs(x, 0.2)"
   ]
  },
  {
   "cell_type": "markdown",
   "metadata": {},
   "source": [
    "### (ii)"
   ]
  },
  {
   "cell_type": "code",
   "execution_count": null,
   "metadata": {
    "collapsed": false
   },
   "outputs": [],
   "source": [
    "e = sympy.functions.elementary.exponential.exp(1)\n",
    "x = sympy.symbols('x')\n",
    "mu = sympy.symbols('mu')\n",
    "\n",
    "def plot_intensity_approximation(sympy_function, mu_value=0.2, number_of_terms=2):\n",
    "    clear_output(wait=True)\n",
    "    series_approximation = sympy_function.series(x, 0, number_of_terms).removeO()\n",
    "    \n",
    "    series_approximation_subs = series_approximation.subs([(mu, mu_value), (e, np.exp(1))])\n",
    "    sympy_function_subs = sympy_function.subs([(mu, mu_value), (e, np.exp(1))])\n",
    "    \n",
    "    numpy_series_approximation = sympy.lambdify(x, series_approximation_subs)\n",
    "    numpy_actual = sympy.lambdify(x, sympy_function_subs)\n",
    "    \n",
    "    next_term = sympy_function.series(x, 0, number_of_terms + 1).removeO() - series_approximation\n",
    "    last_term = series_approximation - sympy_function.series(x, 0, number_of_terms - 1).removeO()\n",
    "    \n",
    "    point_of_reasonable_accuracy = last_term/10 + next_term\n",
    "    point_of_reasonable_accuracy_subs = point_of_reasonable_accuracy.subs([(mu, mu_value), (e, np.exp(1))])\n",
    "    \n",
    "    x_value_of_reasonable_accuracy = sympy.solve(point_of_reasonable_accuracy_subs, x)[1]\n",
    "    x_values = np.linspace(0.001, 10)\n",
    "    \n",
    "    y_actual = numpy_actual(x_values)\n",
    "    y_approx = numpy_series_approximation(x_values)\n",
    "    \n",
    "    fig = plt.figure(figsize=(6,5.5))\n",
    "    ax = fig.add_subplot(111)\n",
    "    \n",
    "    ax.plot(x_values, y_actual, 'r')\n",
    "    ax.plot(x_values, y_approx, 'b--')\n",
    "    ax.plot(\n",
    "        [x_value_of_reasonable_accuracy, x_value_of_reasonable_accuracy], [0, 1], 'g--', \n",
    "        label='point at which the next term would be 10x smaller than the current last term')\n",
    "\n",
    "    ax.set_xlim([0, 10])\n",
    "    ax.set_ylim([0, 1])\n",
    "\n",
    "    ax.set_title(r'Approximation of {}'.format(str(sympy_function)))\n",
    "    ax.set_xlabel('x')\n",
    "    ax.set_ylabel('y')  \n",
    "    plt.grid(True)\n",
    "    box = ax.get_position()\n",
    "    ax.set_position([box.x0, box.y0 + box.height * 0.1,\n",
    "                     box.width, box.height * 0.9])\n",
    "\n",
    "    ax.legend(loc='upper center', bbox_to_anchor=(0.5, -0.05),\n",
    "              fancybox=True, shadow=True, ncol=5)\n",
    "    plt.show(fig)\n",
    "    display(series_approximation)\n",
    "\n",
    "sympy_function = e ** (-mu * x)\n",
    "\n",
    "interact(\n",
    "    plot_intensity_approximation, \n",
    "    sympy_function=fixed(sympy_function),\n",
    "    mu_value = [0.1, 2.0],\n",
    "    number_of_terms = [2,10]);"
   ]
  },
  {
   "cell_type": "markdown",
   "metadata": {},
   "source": [
    "### (iii)"
   ]
  },
  {
   "cell_type": "code",
   "execution_count": null,
   "metadata": {
    "collapsed": false
   },
   "outputs": [],
   "source": [
    "x = sympy.symbols('x')\n",
    "m = sympy.symbols('m')\n",
    "binomial = (1 + x)**m\n",
    "series = binomial.series(x)\n",
    "series"
   ]
  },
  {
   "cell_type": "code",
   "execution_count": null,
   "metadata": {
    "collapsed": false
   },
   "outputs": [],
   "source": [
    "e = sympy.functions.elementary.exponential.exp(1)\n",
    "l = sympy.symbols('lambda')\n",
    "D = sympy.symbols('D')\n",
    "sub_in = -e**(-D*l)\n",
    "sub_in"
   ]
  },
  {
   "cell_type": "code",
   "execution_count": null,
   "metadata": {
    "collapsed": false
   },
   "outputs": [],
   "source": [
    "m_value = 3\n",
    "subbed_m = series.subs(m, m_value).removeO()\n",
    "result = 1 - subbed_m.subs(x, sub_in)\n",
    "result"
   ]
  },
  {
   "cell_type": "code",
   "execution_count": null,
   "metadata": {
    "collapsed": false
   },
   "outputs": [],
   "source": [
    "m_value = 5\n",
    "subbed_m = series.subs(m, m_value).removeO()\n",
    "result = 1 - subbed_m.subs(x, sub_in)\n",
    "result"
   ]
  },
  {
   "cell_type": "markdown",
   "metadata": {},
   "source": [
    "## Example Functions"
   ]
  },
  {
   "cell_type": "code",
   "execution_count": null,
   "metadata": {
    "collapsed": false
   },
   "outputs": [],
   "source": [
    "k = sympy.symbols('k')\n",
    "t = sympy.symbols('t')\n",
    "\n",
    "s = k * t ** 2\n",
    "s"
   ]
  },
  {
   "cell_type": "code",
   "execution_count": null,
   "metadata": {
    "collapsed": false
   },
   "outputs": [],
   "source": [
    "s.subs([(k, 5),(t, 1)])"
   ]
  },
  {
   "cell_type": "code",
   "execution_count": null,
   "metadata": {
    "collapsed": false
   },
   "outputs": [],
   "source": [
    "s.subs([(k, 5),(t, 15)])"
   ]
  },
  {
   "cell_type": "code",
   "execution_count": null,
   "metadata": {
    "collapsed": true
   },
   "outputs": [],
   "source": []
  }
 ],
 "metadata": {
  "kernelspec": {
   "display_name": "Python 3",
   "language": "python",
   "name": "python3"
  },
  "language_info": {
   "codemirror_mode": {
    "name": "ipython",
    "version": 3
   },
   "file_extension": ".py",
   "mimetype": "text/x-python",
   "name": "python",
   "nbconvert_exporter": "python",
   "pygments_lexer": "ipython3",
   "version": "3.5.1"
  },
  "widgets": {
   "state": {},
   "version": "1.1.2"
  }
 },
 "nbformat": 4,
 "nbformat_minor": 0
}
