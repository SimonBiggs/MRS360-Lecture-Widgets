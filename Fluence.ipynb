{
 "cells": [
  {
   "cell_type": "markdown",
   "metadata": {},
   "source": [
    "# Fluence Demo\n",
    "\n",
    "To run this fluence demo you need to step through each cell in turn by pressing the keys `Shift + Enter`. Make sure the very first cell has completed running before you run any further cells. Using `Cell > Run All` does not work with VPython at this current time."
   ]
  },
  {
   "cell_type": "code",
   "execution_count": null,
   "metadata": {
    "collapsed": false
   },
   "outputs": [],
   "source": [
    "import ivisual as vis"
   ]
  },
  {
   "cell_type": "code",
   "execution_count": null,
   "metadata": {
    "collapsed": false
   },
   "outputs": [],
   "source": [
    "from copy import copy\n",
    "\n",
    "import numpy as np\n",
    "from ipywidgets import interact, fixed\n",
    "from IPython.display import display, Markdown, clear_output"
   ]
  },
  {
   "cell_type": "code",
   "execution_count": null,
   "metadata": {
    "collapsed": false
   },
   "outputs": [],
   "source": [
    "try:\n",
    "    fluence_scene.delete()\n",
    "except:\n",
    "    pass\n",
    "\n",
    "fluence_scene = vis.idisplay(\n",
    "    title=' ', background=(0.94, 0.94, 0.94),\n",
    "    autoscale=False, userzoom=False, userspin=False\n",
    ")\n",
    "fluence_scene.select()\n",
    "\n",
    "max_num_photons = 300\n",
    "\n",
    "photon_x0 = np.random.normal(-45, 1, max_num_photons)\n",
    "photon_y0 = np.random.normal(0, 1, max_num_photons)\n",
    "photon_z0 = np.random.normal(0, 1, max_num_photons)\n",
    "\n",
    "photon_initial_positions = [\n",
    "    (photon_x0[i], photon_y0[i], photon_z0[i])\n",
    "    for i in range(max_num_photons)\n",
    "]\n",
    "\n",
    "photons = [\n",
    "    vis.sphere(\n",
    "        pos=photon_initial_position, color=(0.4,0.4,0.9), \n",
    "        radius=0.5, material=vis.materials.plastic, opacity=1)\n",
    "    for photon_initial_position in photon_initial_positions\n",
    "]"
   ]
  },
  {
   "cell_type": "code",
   "execution_count": null,
   "metadata": {
    "collapsed": false
   },
   "outputs": [],
   "source": [
    "photon_velocity_x = np.random.normal(5, 1, max_num_photons)\n",
    "photon_velocity_y = np.random.normal(0, 1, max_num_photons)\n",
    "photon_velocity_z = np.random.normal(0, 1, max_num_photons)\n",
    "\n",
    "intersect_time = -photon_x0 / photon_velocity_x\n",
    "intersect_y = photon_y0 + photon_velocity_y * intersect_time\n",
    "intersect_z = photon_z0 + photon_velocity_z * intersect_time"
   ]
  },
  {
   "cell_type": "code",
   "execution_count": null,
   "metadata": {
    "collapsed": false
   },
   "outputs": [],
   "source": [
    "numpy_photon_initial_positions = np.array(photon_initial_positions)\n",
    "numpy_photon_velocities = np.vstack([photon_velocity_x, photon_velocity_y, photon_velocity_z]).T"
   ]
  },
  {
   "cell_type": "code",
   "execution_count": null,
   "metadata": {
    "collapsed": false
   },
   "outputs": [],
   "source": [
    "fluence_region = vis.box(\n",
    "    pos=vis.vector(0,0,0),\n",
    "    size=vis.vector(0.1, 10, 10),\n",
    "    color=(0.9,0.9,0.2),\n",
    "    opacity=1,\n",
    "    material=vis.materials.rough)\n",
    "\n",
    "def set_fluence_region_area(area):\n",
    "    edge = np.sqrt(area)\n",
    "    fluence_region.size = vis.vector(0.1, edge, edge)"
   ]
  },
  {
   "cell_type": "code",
   "execution_count": null,
   "metadata": {
    "collapsed": false
   },
   "outputs": [],
   "source": [
    "current_photon_number = copy(max_num_photons)\n",
    "current_time = 0\n",
    "current_fluence_area = 100\n",
    "\n",
    "def fluence_interaction(time=current_time, number_of_photons=current_photon_number, fluence_area=current_fluence_area):\n",
    "    global current_photon_number, current_time, current_fluence_area    \n",
    "    \n",
    "    current_positions = numpy_photon_initial_positions + numpy_photon_velocities * time    \n",
    "    for i, photon in enumerate(photons):\n",
    "        photon.pos = vis.vector(*current_positions[i])\n",
    "    \n",
    "    if number_of_photons != current_photon_number:\n",
    "        for i in range(0, number_of_photons):\n",
    "            photons[i].visible = True\n",
    "\n",
    "        for i in range(number_of_photons, max_num_photons):\n",
    "            photons[i].visible = False\n",
    "            \n",
    "    fluence_side = np.sqrt(fluence_area)\n",
    "    colour_red = (\n",
    "        (time > intersect_time) &\n",
    "        (np.abs(intersect_y) < fluence_side/2) &\n",
    "        (np.abs(intersect_z) < fluence_side/2)\n",
    "    )    \n",
    "    \n",
    "    if (time != current_time) | (fluence_area != current_fluence_area):\n",
    "        for i in np.where(colour_red)[0]:\n",
    "            photons[i].color = (0.9,0.4,0.4)\n",
    "\n",
    "        colour_blue = np.invert(colour_red)\n",
    "        for i in np.where(colour_blue)[0]:\n",
    "            photons[i].color = (0.4,0.4,0.9)\n",
    "            \n",
    "    if fluence_area != current_fluence_area:\n",
    "        set_fluence_region_area(fluence_area)\n",
    "        \n",
    "    counted_photons = np.sum(colour_red[0:number_of_photons])\n",
    "    display(Markdown('Number of photons passed through region = {}'.format(counted_photons)))\n",
    "    display(Markdown('Fluence = Number of photons / Area of region = {}'.format(counted_photons/fluence_area)))\n",
    "            \n",
    "    current_photon_number = number_of_photons\n",
    "    current_time = time\n",
    "    current_fluence_area = fluence_area"
   ]
  },
  {
   "cell_type": "code",
   "execution_count": null,
   "metadata": {
    "collapsed": false
   },
   "outputs": [],
   "source": [
    "display(Markdown('# Fluence demo'))\n",
    "display(Markdown('Right click and drag to change the camera angle'))\n",
    "fluence_scene.background = (0.94, 0.94, 0.94)\n",
    "fluence_scene.userspin = True\n",
    "fluence_scene.userzoom = False\n",
    "fluence_scene.autoscale = False\n",
    "fluence_scene.range = (45,20,20)\n",
    "display(fluence_scene)\n",
    "display(fluence_scene)"
   ]
  },
  {
   "cell_type": "code",
   "execution_count": null,
   "metadata": {
    "collapsed": false
   },
   "outputs": [],
   "source": [
    "interact(\n",
    "    fluence_interaction, \n",
    "    time=[0.0, 20.0], \n",
    "    number_of_photons=[0,max_num_photons],\n",
    "    fluence_area=[10, 1000]\n",
    ")"
   ]
  },
  {
   "cell_type": "code",
   "execution_count": null,
   "metadata": {
    "collapsed": true
   },
   "outputs": [],
   "source": []
  },
  {
   "cell_type": "code",
   "execution_count": null,
   "metadata": {
    "collapsed": true
   },
   "outputs": [],
   "source": []
  }
 ],
 "metadata": {
  "kernelspec": {
   "display_name": "Python 3",
   "language": "python",
   "name": "python3"
  },
  "language_info": {
   "codemirror_mode": {
    "name": "ipython",
    "version": 3
   },
   "file_extension": ".py",
   "mimetype": "text/x-python",
   "name": "python",
   "nbconvert_exporter": "python",
   "pygments_lexer": "ipython3",
   "version": "3.5.1"
  },
  "widgets": {
   "state": {},
   "version": "1.1.2"
  }
 },
 "nbformat": 4,
 "nbformat_minor": 0
}
