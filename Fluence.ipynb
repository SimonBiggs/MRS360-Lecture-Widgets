{
 "cells": [
  {
   "cell_type": "markdown",
   "metadata": {},
   "source": [
    "# Fluence Demo\n",
    "\n",
    "To run this fluence demo you need to step through each cell in turn by pressing the keys `Shift + Enter`. Make sure the very first cell has completed running before you run any further cells. Using `Cell > Run All` does not work with VPython at this current time."
   ]
  },
  {
   "cell_type": "code",
   "execution_count": null,
   "metadata": {
    "collapsed": false
   },
   "outputs": [],
   "source": [
    "import ivisual as vis"
   ]
  },
  {
   "cell_type": "code",
   "execution_count": null,
   "metadata": {
    "collapsed": false
   },
   "outputs": [],
   "source": [
    "from copy import copy\n",
    "\n",
    "import numpy as np\n",
    "from ipywidgets import interact, fixed\n",
    "from IPython.display import display, Markdown, clear_output"
   ]
  },
  {
   "cell_type": "code",
   "execution_count": null,
   "metadata": {
    "collapsed": false
   },
   "outputs": [],
   "source": [
    "try:\n",
    "    fluence_scene.delete()\n",
    "except:\n",
    "    pass\n",
    "\n",
    "fluence_scene = vis.idisplay(\n",
    "    title=' ', background=(0.94, 0.94, 0.94),\n",
    "    autoscale=False, userzoom=False, userspin=False\n",
    ")\n",
    "fluence_scene.select()\n",
    "\n",
    "max_num_photons = 300\n",
    "\n",
    "photon_x0 = np.random.normal(-45, 2, max_num_photons)\n",
    "photon_y0 = np.random.normal(0, 1, max_num_photons)\n",
    "photon_z0 = np.random.normal(0, 1, max_num_photons)\n",
    "\n",
    "photon_initial_positions = [\n",
    "    (photon_x0[i], photon_y0[i], photon_z0[i])\n",
    "    for i in range(max_num_photons)\n",
    "]\n",
    "\n",
    "photons = [\n",
    "    vis.sphere(\n",
    "        pos=photon_initial_position, color=(0.4,0.4,0.9), \n",
    "        radius=0.5, material=vis.materials.plastic, opacity=1)\n",
    "    for photon_initial_position in photon_initial_positions\n",
    "]"
   ]
  },
  {
   "cell_type": "code",
   "execution_count": null,
   "metadata": {
    "collapsed": false
   },
   "outputs": [],
   "source": [
    "photon_velocity_x = np.random.normal(5, 1, max_num_photons)\n",
    "photon_velocity_y = np.random.normal(0, 1, max_num_photons)\n",
    "photon_velocity_z = np.random.normal(0, 1, max_num_photons)\n",
    "\n",
    "norm = np.sqrt(photon_velocity_x**2 + photon_velocity_y**2 +  photon_velocity_z**2)\n",
    "photon_velocity_x = photon_velocity_x/norm\n",
    "photon_velocity_y = photon_velocity_y/norm\n",
    "photon_velocity_z = photon_velocity_z/norm"
   ]
  },
  {
   "cell_type": "code",
   "execution_count": null,
   "metadata": {
    "collapsed": true
   },
   "outputs": [],
   "source": [
    "intersect_time = -photon_x0 / photon_velocity_x\n",
    "intersect_y = photon_y0 + photon_velocity_y * intersect_time\n",
    "intersect_z = photon_z0 + photon_velocity_z * intersect_time"
   ]
  },
  {
   "cell_type": "code",
   "execution_count": null,
   "metadata": {
    "collapsed": false
   },
   "outputs": [],
   "source": [
    "numpy_photon_initial_positions = np.array(photon_initial_positions)\n",
    "numpy_photon_velocities = np.vstack([photon_velocity_x, photon_velocity_y, photon_velocity_z]).T"
   ]
  },
  {
   "cell_type": "code",
   "execution_count": null,
   "metadata": {
    "collapsed": false
   },
   "outputs": [],
   "source": [
    "fluence_region = vis.box(\n",
    "    pos=vis.vector(0,0,0),\n",
    "    size=vis.vector(0.1, 10, 10),\n",
    "    color=(0.9,0.9,0.2),\n",
    "    opacity=1,\n",
    "    material=vis.materials.rough)\n",
    "\n",
    "def set_fluence_region_area(area):\n",
    "    edge = np.sqrt(area)\n",
    "    fluence_region.size = vis.vector(0.1, edge, edge)"
   ]
  },
  {
   "cell_type": "code",
   "execution_count": null,
   "metadata": {
    "collapsed": false
   },
   "outputs": [],
   "source": [
    "current_photon_number = copy(max_num_photons)\n",
    "current_time = 0\n",
    "current_region_area = 100\n",
    "\n",
    "def fluence_interaction(time=current_time, number_of_photons=current_photon_number, region_area=current_region_area):\n",
    "    global current_photon_number, current_time, current_region_area    \n",
    "    \n",
    "    current_positions = numpy_photon_initial_positions + numpy_photon_velocities * time    \n",
    "    for i, photon in enumerate(photons):\n",
    "        photon.pos = vis.vector(*current_positions[i])\n",
    "    \n",
    "    if number_of_photons != current_photon_number:\n",
    "        for i in range(0, number_of_photons):\n",
    "            photons[i].visible = True\n",
    "\n",
    "        for i in range(number_of_photons, max_num_photons):\n",
    "            photons[i].visible = False\n",
    "            \n",
    "    region_side = np.sqrt(region_area)\n",
    "    colour_red = (\n",
    "        (time > intersect_time) &\n",
    "        (np.abs(intersect_y) < region_side/2) &\n",
    "        (np.abs(intersect_z) < region_side/2)\n",
    "    )    \n",
    "    \n",
    "    if (time != current_time) | (region_area != current_region_area):\n",
    "        for i in np.where(colour_red)[0]:\n",
    "            photons[i].color = (0.9,0.4,0.4)\n",
    "\n",
    "        colour_blue = np.invert(colour_red)\n",
    "        for i in np.where(colour_blue)[0]:\n",
    "            photons[i].color = (0.4,0.4,0.9)\n",
    "            \n",
    "    if region_area != current_region_area:\n",
    "        set_fluence_region_area(region_area)\n",
    "        \n",
    "    counted_photons = np.sum(colour_red[0:number_of_photons])\n",
    "    display(Markdown('Number of photons passed through region = {}'.format(counted_photons)))\n",
    "    display(Markdown('Fluence = Number of photons / Area of region = {0:0.4f}'.format(counted_photons/region_area)))\n",
    "            \n",
    "    current_photon_number = number_of_photons\n",
    "    current_time = time\n",
    "    current_region_area = region_area"
   ]
  },
  {
   "cell_type": "code",
   "execution_count": null,
   "metadata": {
    "collapsed": false
   },
   "outputs": [],
   "source": [
    "display(Markdown('# Fluence demo'))\n",
    "fluence_scene.background = (0.94, 0.94, 0.94)\n",
    "fluence_scene.userspin = True\n",
    "fluence_scene.userzoom = False\n",
    "fluence_scene.autoscale = False\n",
    "fluence_scene.range = (45,20,20)\n",
    "display(fluence_scene)\n",
    "display(fluence_scene)\n",
    "display(Markdown('Right click and drag to change the camera angle'))"
   ]
  },
  {
   "cell_type": "code",
   "execution_count": null,
   "metadata": {
    "collapsed": false
   },
   "outputs": [],
   "source": [
    "interact(\n",
    "    fluence_interaction, \n",
    "    time=[0.0, 100.0], \n",
    "    number_of_photons=[0,max_num_photons],\n",
    "    region_area=[10, 1000]\n",
    ");"
   ]
  },
  {
   "cell_type": "code",
   "execution_count": null,
   "metadata": {
    "collapsed": true
   },
   "outputs": [],
   "source": []
  },
  {
   "cell_type": "code",
   "execution_count": null,
   "metadata": {
    "collapsed": true
   },
   "outputs": [],
   "source": []
  }
 ],
 "metadata": {
  "kernelspec": {
   "display_name": "Python 3",
   "language": "python",
   "name": "python3"
  },
  "language_info": {
   "codemirror_mode": {
    "name": "ipython",
    "version": 3
   },
   "file_extension": ".py",
   "mimetype": "text/x-python",
   "name": "python",
   "nbconvert_exporter": "python",
   "pygments_lexer": "ipython3",
   "version": "3.5.1"
  },
  "widgets": {
   "state": {
    "09b6c0eb87654ef8a63bf439296b32e7": {
     "views": []
    },
    "0e873f5bac2f4a6abb9c55866aedf4ef": {
     "views": []
    },
    "145e8a9c9c164610b94f04904eba55de": {
     "views": []
    },
    "18d8f384c5e44d4ea6a0a0418411443a": {
     "views": []
    },
    "1afe7005e8e74218b678690f049467a9": {
     "views": []
    },
    "216965a74ab74b73989e6c18d082815b": {
     "views": []
    },
    "2239f44ee9674ff5a6a1f0da9d9c0f58": {
     "views": []
    },
    "234a3bb5baa1413b951bc13ec35c717a": {
     "views": []
    },
    "25f131399a1a44d697a809567b8ece3b": {
     "views": []
    },
    "2dc6f8ecccf245d3b1984fe3668ac928": {
     "views": []
    },
    "3b4c231a57404e0e906704c7fbbdd15d": {
     "views": []
    },
    "3b9174b7497b46e090d4067b6825928f": {
     "views": []
    },
    "3be5119103124c818e87dc4c0b75e58b": {
     "views": []
    },
    "3dc804d842b84a1981b7e9eac23d58bc": {
     "views": []
    },
    "3e22d136388f4a5dafbc5f9661f0b534": {
     "views": []
    },
    "4543f2dc09bc462aa92cab06bb38ee93": {
     "views": []
    },
    "48ec713e96b344cbb343111968d8190f": {
     "views": []
    },
    "53af72ab1349435b9971cf4169724dd2": {
     "views": []
    },
    "56392045db424a2da290ce17b723b2fe": {
     "views": []
    },
    "57a4a36049bf4dd4bda3f8073886b743": {
     "views": []
    },
    "57d10ec16b964b49b8ad0e421c6eaebf": {
     "views": []
    },
    "58384a7d2aff4d4ca8813e21c5118293": {
     "views": []
    },
    "5a49a78a2b9146ac95dd9639a2524fab": {
     "views": []
    },
    "5c209d7e1cf14725bb665bb6f3814580": {
     "views": []
    },
    "5c4992b0a2fa498186affad59f361ca6": {
     "views": []
    },
    "6146ee4431e543839237664478c377e7": {
     "views": []
    },
    "629f0111816f4048af09c8d206669d07": {
     "views": []
    },
    "699503d5673a4218ad41597612914f81": {
     "views": []
    },
    "6a4ad0f2a4e44a3ca5d9b09677b0bf6d": {
     "views": []
    },
    "72adefa7bc704194b5898d82c4faa50a": {
     "views": []
    },
    "72bb399638004abf9e7e0fe184b0d408": {
     "views": []
    },
    "834ce98e871044129b2f3e1a7bda0369": {
     "views": []
    },
    "8529c3881b204edaaddf582f24202884": {
     "views": []
    },
    "86fee0baefb2451ab625d0ca15c010a9": {
     "views": []
    },
    "914336a178de41b2af797c76a1ffe94d": {
     "views": []
    },
    "92093acd10c34254917244b7d61dc8de": {
     "views": []
    },
    "938ee596cec04c61b7a4f23964202210": {
     "views": []
    },
    "94400c8b524b4167ade25b25021d2084": {
     "views": []
    },
    "94c97d479f5540f5aa391407237a3474": {
     "views": []
    },
    "9678310019b644b68719f8f0170616af": {
     "views": []
    },
    "9aa26c352c7241bfb0947f172d66a1cf": {
     "views": []
    },
    "9d902741dfc34c72bef8c382989671db": {
     "views": []
    },
    "a387bee24b674d2fa067b9aef3ad6a67": {
     "views": []
    },
    "a88028849bc44f2ca519ec55cecba314": {
     "views": []
    },
    "a91db2fa0eb34e1d91724ff8a2c2a270": {
     "views": []
    },
    "aabe67ae3ff747cea130b97dff9080fd": {
     "views": []
    },
    "adbc2de965fe40eda75ecd53d8a85526": {
     "views": []
    },
    "b40867c2b83f4b94bf52094a82df3876": {
     "views": []
    },
    "c2c4130769bf4f30936be60c331933ac": {
     "views": []
    },
    "cf0d4c2ac8cd41d98d9834af40975c0e": {
     "views": []
    },
    "cf4016cf516d4d37abb2d35ac9d0ab70": {
     "views": []
    },
    "d0db6f0931144ff9a7a0b849d38de876": {
     "views": []
    },
    "d78801bb78ac47e3a67da80866cfdf44": {
     "views": []
    },
    "da78b5a7004548d0a54008c5c1269d11": {
     "views": []
    },
    "dad6a1219c84403ea7661e924f65fb8a": {
     "views": []
    },
    "dc0a18ba29494f519beb40ff01ce14df": {
     "views": []
    },
    "df9f4c420e9f48f88008843429e6629f": {
     "views": []
    },
    "e1d714d7949a422da4cf09d4d981fc46": {
     "views": []
    },
    "e98c64b04515428faeec263972ca4e37": {
     "views": []
    },
    "e9f28b700a964e6dac43f1056dcf8095": {
     "views": []
    },
    "ea9b1ad4d57b490483de8b4c9573d3f7": {
     "views": []
    },
    "ed37011d64b64532b775a4773bc91fcc": {
     "views": []
    },
    "f39a73d1c3bf4c9b85dfa976aba1b271": {
     "views": []
    },
    "f80acdffb74b40ea978ed1dc7545b761": {
     "views": []
    }
   },
   "version": "1.1.2"
  }
 },
 "nbformat": 4,
 "nbformat_minor": 0
}
